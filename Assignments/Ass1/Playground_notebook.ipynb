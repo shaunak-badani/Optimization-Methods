{
 "cells": [
  {
   "cell_type": "markdown",
   "metadata": {},
   "source": [
    "# This is a notebook where I try out different python libraries, packages etc."
   ]
  },
  {
   "cell_type": "code",
   "execution_count": 2,
   "metadata": {},
   "outputs": [],
   "source": [
    "import cvxpy as cp\n",
    "import numpy as np\n",
    "import matplotlib.pyplot as plt"
   ]
  },
  {
   "cell_type": "code",
   "execution_count": 2,
   "metadata": {},
   "outputs": [],
   "source": [
    "np.random.seed(1)\n",
    "A = np.random.randn(30, 20) # A -> 30 * 20\n",
    "b = np.random.randn(30)"
   ]
  },
  {
   "cell_type": "code",
   "execution_count": 3,
   "metadata": {},
   "outputs": [
    {
     "data": {
      "text/plain": [
       "array([[ 1.62434536e+00, -6.11756414e-01, -5.28171752e-01,\n",
       "        -1.07296862e+00,  8.65407629e-01, -2.30153870e+00,\n",
       "         1.74481176e+00, -7.61206901e-01,  3.19039096e-01,\n",
       "        -2.49370375e-01,  1.46210794e+00, -2.06014071e+00,\n",
       "        -3.22417204e-01, -3.84054355e-01,  1.13376944e+00,\n",
       "        -1.09989127e+00, -1.72428208e-01, -8.77858418e-01,\n",
       "         4.22137467e-02,  5.82815214e-01],\n",
       "       [-1.10061918e+00,  1.14472371e+00,  9.01590721e-01,\n",
       "         5.02494339e-01,  9.00855949e-01, -6.83727859e-01,\n",
       "        -1.22890226e-01, -9.35769434e-01, -2.67888080e-01,\n",
       "         5.30355467e-01, -6.91660752e-01, -3.96753527e-01,\n",
       "        -6.87172700e-01, -8.45205641e-01, -6.71246131e-01,\n",
       "        -1.26645989e-02, -1.11731035e+00,  2.34415698e-01,\n",
       "         1.65980218e+00,  7.42044161e-01],\n",
       "       [-1.91835552e-01, -8.87628964e-01, -7.47158294e-01,\n",
       "         1.69245460e+00,  5.08077548e-02, -6.36995647e-01,\n",
       "         1.90915485e-01,  2.10025514e+00,  1.20158952e-01,\n",
       "         6.17203110e-01,  3.00170320e-01, -3.52249846e-01,\n",
       "        -1.14251820e+00, -3.49342722e-01, -2.08894233e-01,\n",
       "         5.86623191e-01,  8.38983414e-01,  9.31102081e-01,\n",
       "         2.85587325e-01,  8.85141164e-01],\n",
       "       [-7.54397941e-01,  1.25286816e+00,  5.12929820e-01,\n",
       "        -2.98092835e-01,  4.88518147e-01, -7.55717130e-02,\n",
       "         1.13162939e+00,  1.51981682e+00,  2.18557541e+00,\n",
       "        -1.39649634e+00, -1.44411381e+00, -5.04465863e-01,\n",
       "         1.60037069e-01,  8.76168921e-01,  3.15634947e-01,\n",
       "        -2.02220122e+00, -3.06204013e-01,  8.27974643e-01,\n",
       "         2.30094735e-01,  7.62011180e-01],\n",
       "       [-2.22328143e-01, -2.00758069e-01,  1.86561391e-01,\n",
       "         4.10051647e-01,  1.98299720e-01,  1.19008646e-01,\n",
       "        -6.70662286e-01,  3.77563786e-01,  1.21821271e-01,\n",
       "         1.12948391e+00,  1.19891788e+00,  1.85156417e-01,\n",
       "        -3.75284950e-01, -6.38730407e-01,  4.23494354e-01,\n",
       "         7.73400683e-02, -3.43853676e-01,  4.35968568e-02,\n",
       "        -6.20000844e-01,  6.98032034e-01],\n",
       "       [-4.47128565e-01,  1.22450770e+00,  4.03491642e-01,\n",
       "         5.93578523e-01, -1.09491185e+00,  1.69382433e-01,\n",
       "         7.40556451e-01, -9.53700602e-01, -2.66218506e-01,\n",
       "         3.26145467e-02, -1.37311732e+00,  3.15159392e-01,\n",
       "         8.46160648e-01, -8.59515941e-01,  3.50545979e-01,\n",
       "        -1.31228341e+00, -3.86955093e-02, -1.61577235e+00,\n",
       "         1.12141771e+00,  4.08900538e-01],\n",
       "       [-2.46169559e-02, -7.75161619e-01,  1.27375593e+00,\n",
       "         1.96710175e+00, -1.85798186e+00,  1.23616403e+00,\n",
       "         1.62765075e+00,  3.38011697e-01, -1.19926803e+00,\n",
       "         8.63345318e-01, -1.80920302e-01, -6.03920628e-01,\n",
       "        -1.23005814e+00,  5.50537496e-01,  7.92806866e-01,\n",
       "        -6.23530730e-01,  5.20576337e-01, -1.14434139e+00,\n",
       "         8.01861032e-01,  4.65672984e-02],\n",
       "       [-1.86569772e-01, -1.01745873e-01,  8.68886157e-01,\n",
       "         7.50411640e-01,  5.29465324e-01,  1.37701210e-01,\n",
       "         7.78211279e-02,  6.18380262e-01,  2.32494559e-01,\n",
       "         6.82551407e-01, -3.10116774e-01, -2.43483776e+00,\n",
       "         1.03882460e+00,  2.18697965e+00,  4.41364444e-01,\n",
       "        -1.00155233e-01, -1.36444744e-01, -1.19054188e-01,\n",
       "         1.74094083e-02, -1.12201873e+00],\n",
       "       [-5.17094458e-01, -9.97026828e-01,  2.48799161e-01,\n",
       "        -2.96641152e-01,  4.95211324e-01, -1.74703160e-01,\n",
       "         9.86335188e-01,  2.13533901e-01,  2.19069973e+00,\n",
       "        -1.89636092e+00, -6.46916688e-01,  9.01486892e-01,\n",
       "         2.52832571e+00, -2.48634778e-01,  4.36689932e-02,\n",
       "        -2.26314243e-01,  1.33145711e+00, -2.87307863e-01,\n",
       "         6.80069840e-01, -3.19801599e-01],\n",
       "       [-1.27255876e+00,  3.13547720e-01,  5.03184813e-01,\n",
       "         1.29322588e+00, -1.10447026e-01, -6.17362064e-01,\n",
       "         5.62761097e-01,  2.40737092e-01,  2.80665077e-01,\n",
       "        -7.31127037e-02,  1.16033857e+00,  3.69492716e-01,\n",
       "         1.90465871e+00,  1.11105670e+00,  6.59049796e-01,\n",
       "        -1.62743834e+00,  6.02319280e-01,  4.20282204e-01,\n",
       "         8.10951673e-01,  1.04444209e+00],\n",
       "       [-4.00878192e-01,  8.24005618e-01, -5.62305431e-01,\n",
       "         1.95487808e+00, -1.33195167e+00, -1.76068856e+00,\n",
       "        -1.65072127e+00, -8.90555584e-01, -1.11911540e+00,\n",
       "         1.95607890e+00, -3.26499498e-01, -1.34267579e+00,\n",
       "         1.11438298e+00, -5.86523939e-01, -1.23685338e+00,\n",
       "         8.75838928e-01,  6.23362177e-01, -4.34956683e-01,\n",
       "         1.40754000e+00,  1.29101580e-01],\n",
       "       [ 1.61694960e+00,  5.02740882e-01,  1.55880554e+00,\n",
       "         1.09402696e-01, -1.21974440e+00,  2.44936865e+00,\n",
       "        -5.45774168e-01, -1.98837863e-01, -7.00398505e-01,\n",
       "        -2.03394449e-01,  2.42669441e-01,  2.01830179e-01,\n",
       "         6.61020288e-01,  1.79215821e+00, -1.20464572e-01,\n",
       "        -1.23312074e+00, -1.18231813e+00, -6.65754518e-01,\n",
       "        -1.67419581e+00,  8.25029824e-01],\n",
       "       [-4.98213564e-01, -3.10984978e-01, -1.89148284e-03,\n",
       "        -1.39662042e+00, -8.61316361e-01,  6.74711526e-01,\n",
       "         6.18539131e-01, -4.43171931e-01,  1.81053491e+00,\n",
       "        -1.30572692e+00, -3.44987210e-01, -2.30839743e-01,\n",
       "        -2.79308500e+00,  1.93752881e+00,  3.66332015e-01,\n",
       "        -1.04458938e+00,  2.05117344e+00,  5.85662000e-01,\n",
       "         4.29526140e-01, -6.06998398e-01],\n",
       "       [ 1.06222724e-01, -1.52568032e+00,  7.95026094e-01,\n",
       "        -3.74438319e-01,  1.34048197e-01,  1.20205486e+00,\n",
       "         2.84748111e-01,  2.62467445e-01,  2.76499305e-01,\n",
       "        -7.33271604e-01,  8.36004719e-01,  1.54335911e+00,\n",
       "         7.58805660e-01,  8.84908814e-01, -8.77281519e-01,\n",
       "        -8.67787223e-01, -1.44087602e+00,  1.23225307e+00,\n",
       "        -2.54179868e-01,  1.39984394e+00],\n",
       "       [-7.81911683e-01, -4.37508983e-01,  9.54250872e-02,\n",
       "         9.21450069e-01,  6.07501958e-02,  2.11124755e-01,\n",
       "         1.65275673e-02,  1.77187720e-01, -1.11647002e+00,\n",
       "         8.09271010e-02, -1.86578994e-01, -5.68244809e-02,\n",
       "         4.92336556e-01, -6.80678141e-01, -8.45080274e-02,\n",
       "        -2.97361883e-01,  4.17302005e-01,  7.84770651e-01,\n",
       "        -9.55425262e-01,  5.85910431e-01],\n",
       "       [ 2.06578332e+00, -1.47115693e+00, -8.30171895e-01,\n",
       "        -8.80577600e-01, -2.79097722e-01,  1.62284909e+00,\n",
       "         1.33526763e-02, -6.94693595e-01,  6.21803504e-01,\n",
       "        -5.99804531e-01,  1.12341216e+00,  3.05267040e-01,\n",
       "         1.38877940e+00, -6.61344243e-01,  3.03085711e+00,\n",
       "         8.24584625e-01,  6.54580153e-01, -5.11884476e-02,\n",
       "        -7.25597119e-01, -8.67768678e-01],\n",
       "       [-1.35977326e-01, -7.97269785e-01,  2.82675712e-01,\n",
       "        -8.26097432e-01,  6.21082701e-01,  9.56121704e-01,\n",
       "        -7.05840507e-01,  1.19268607e+00, -2.37941936e-01,\n",
       "         1.15528789e+00,  4.38166347e-01,  1.12232832e+00,\n",
       "        -9.97019796e-01, -1.06793987e-01,  1.45142926e+00,\n",
       "        -6.18036848e-01, -2.03720123e+00, -1.94258918e+00,\n",
       "        -2.50644065e+00, -2.11416392e+00],\n",
       "       [-4.11639163e-01,  1.27852808e+00, -4.42229280e-01,\n",
       "         3.23527354e-01, -1.09991490e-01,  8.54894544e-03,\n",
       "        -1.68198840e-01, -1.74180344e-01,  4.61164100e-01,\n",
       "        -1.17598267e+00,  1.01012718e+00,  9.20017933e-01,\n",
       "        -1.95057341e-01,  8.05393424e-01, -7.01344426e-01,\n",
       "        -5.37223024e-01,  1.56263850e-01, -1.90221025e-01,\n",
       "        -4.48738033e-01, -6.72448039e-01],\n",
       "       [-5.57494722e-01,  9.39168744e-01, -1.94332341e+00,\n",
       "         3.52494364e-01, -2.36436952e-01,  7.27813500e-01,\n",
       "         5.15073614e-01, -2.78253447e+00,  5.84646610e-01,\n",
       "         3.24274243e-01,  2.18628366e-02, -4.68673816e-01,\n",
       "         8.53281222e-01, -4.13029310e-01,  1.83471763e+00,\n",
       "         5.64382855e-01,  2.13782807e+00, -7.85533997e-01,\n",
       "        -1.75592564e+00,  7.14789597e-01],\n",
       "       [ 8.52704062e-01,  3.53600971e-02, -1.53879325e+00,\n",
       "        -4.47895185e-01,  6.17985534e-01, -1.84176326e-01,\n",
       "        -1.15985185e-01, -1.75458969e-01, -9.33914656e-01,\n",
       "        -5.33020326e-01, -1.42655542e+00,  1.76795995e+00,\n",
       "        -4.75372875e-01,  4.77610182e-01, -1.02188594e+00,\n",
       "         7.94528240e-01, -1.87316098e+00,  9.20615118e-01,\n",
       "        -3.53679249e-02,  2.11060505e+00],\n",
       "       [-1.30653407e+00,  7.63804802e-02,  3.67231814e-01,\n",
       "         1.23289919e+00, -4.22856961e-01,  8.64644065e-02,\n",
       "        -2.14246673e+00, -8.30168864e-01,  4.51615951e-01,\n",
       "         1.10417433e+00, -2.81736269e-01,  2.05635552e+00,\n",
       "         1.76024923e+00, -6.06524918e-02, -2.41350300e+00,\n",
       "        -1.77756638e+00, -7.77858827e-01,  1.11584111e+00,\n",
       "         3.10272288e-01, -2.09424782e+00],\n",
       "       [-2.28765829e-01,  1.61336137e+00, -3.74804687e-01,\n",
       "        -7.49969617e-01,  2.05462410e+00,  5.34095368e-02,\n",
       "        -4.79157099e-01,  3.50167159e-01,  1.71647264e-02,\n",
       "        -4.29142278e-01,  1.20845633e+00,  1.11570180e+00,\n",
       "         8.40861558e-01, -1.02887218e-01,  1.14690038e+00,\n",
       "        -4.97025792e-02,  4.66643267e-01,  1.03368687e+00,\n",
       "         8.08844360e-01,  1.78975468e+00],\n",
       "       [ 4.51284016e-01, -1.68405999e+00, -1.16017010e+00,\n",
       "         1.35010682e+00, -3.31283170e-01,  3.86539145e-01,\n",
       "        -8.51455657e-01,  1.00088142e+00, -3.84832249e-01,\n",
       "         1.45810824e+00, -5.32234021e-01,  1.11813340e+00,\n",
       "         6.74396105e-01, -7.22391905e-01,  1.09899633e+00,\n",
       "        -9.01634490e-01, -8.22467189e-01,  7.21711292e-01,\n",
       "        -6.25342001e-01, -5.93843067e-01],\n",
       "       [-3.43900709e-01, -1.00016919e+00,  1.04499441e+00,\n",
       "         6.08514698e-01, -6.93286967e-02, -1.08392067e-01,\n",
       "         4.50155513e-01,  1.76533510e+00,  8.70969803e-01,\n",
       "        -5.08457134e-01,  7.77419205e-01, -1.18771172e-01,\n",
       "        -1.98998184e-01,  1.86647138e+00, -4.18937898e-01,\n",
       "        -4.79184915e-01, -1.95210529e+00, -1.40232915e+00,\n",
       "         4.51122939e-01, -6.94920901e-01],\n",
       "       [ 5.15413802e-01, -1.11487105e+00, -7.67309826e-01,\n",
       "         6.74570707e-01,  1.46089238e+00,  5.92472801e-01,\n",
       "         1.19783084e+00,  1.70459417e+00,  1.04008915e+00,\n",
       "        -9.18440038e-01, -1.05344713e-01,  6.30195671e-01,\n",
       "        -4.14846901e-01,  4.51946037e-01, -1.57915629e+00,\n",
       "        -8.28627979e-01,  5.28879746e-01, -2.23708651e+00,\n",
       "        -1.10771250e+00, -1.77183179e-02],\n",
       "       [-1.71939447e+00,  5.71209961e-02, -7.99547491e-01,\n",
       "        -2.91594596e-01, -2.58982853e-01,  1.89293198e-01,\n",
       "        -5.63788735e-01,  8.96864073e-02, -6.01156801e-01,\n",
       "         5.56073510e-01,  1.69380911e+00,  1.96869779e-01,\n",
       "         1.69869255e-01, -1.16400797e+00,  6.93366226e-01,\n",
       "        -7.58067329e-01, -8.08847196e-01,  5.57439453e-01,\n",
       "         1.81038744e-01,  1.10717545e+00],\n",
       "       [ 1.44287693e+00, -5.39681562e-01,  1.28376990e-01,\n",
       "         1.76041518e+00,  9.66539250e-01,  7.13049050e-01,\n",
       "         1.30620607e+00, -6.04602969e-01,  6.36583409e-01,\n",
       "         1.40925339e+00,  1.62091229e+00, -8.06184817e-01,\n",
       "        -2.51674208e-01,  3.82715174e-01, -2.88997343e-01,\n",
       "        -3.91816240e-01,  6.84001328e-01, -3.53409983e-01,\n",
       "        -1.78791289e+00,  3.61847316e-01],\n",
       "       [-4.24492791e-01, -7.31530982e-01, -1.56573815e+00,\n",
       "         1.01382247e+00, -2.22711263e+00, -1.69933360e+00,\n",
       "        -2.75846063e-01,  1.22895559e+00,  1.30970591e+00,\n",
       "        -1.15498263e+00, -1.77632196e-01, -1.51045638e+00,\n",
       "         1.01120706e+00, -1.47656266e+00, -1.43195745e-01,\n",
       "         1.03298378e+00, -2.22414029e-01,  1.47016034e+00,\n",
       "        -8.70008223e-01,  3.69190470e-01],\n",
       "       [ 8.53282186e-01, -1.39711730e-01,  1.38631426e+00,\n",
       "         5.48129585e-01, -1.63744959e+00,  3.95860270e+00,\n",
       "         6.48643644e-01,  1.07343294e-01, -1.39881282e+00,\n",
       "         8.17678188e-02, -4.59942831e-01,  6.44353666e-01,\n",
       "         3.71670291e-01,  1.85300949e+00,  1.42251373e-01,\n",
       "         5.13505480e-01,  3.72456852e-01, -1.48489803e-01,\n",
       "        -1.83400197e-01,  1.10100020e+00],\n",
       "       [ 7.80027135e-01, -6.29441604e-01, -1.11343610e+00,\n",
       "        -6.74100249e-02,  1.16143998e+00, -2.75293863e-02,\n",
       "         1.74643509e+00, -7.75070287e-01,  1.41640538e-01,\n",
       "        -2.51630386e+00, -5.95667881e-01, -3.09121319e-01,\n",
       "         5.10937774e-01,  1.71066184e+00,  3.49435894e-02,\n",
       "         1.45391758e+00,  6.61681076e-01,  9.86352180e-01,\n",
       "        -4.66154857e-01,  1.38499134e+00]])"
      ]
     },
     "execution_count": 3,
     "metadata": {},
     "output_type": "execute_result"
    }
   ],
   "source": [
    "A"
   ]
  },
  {
   "cell_type": "code",
   "execution_count": 4,
   "metadata": {},
   "outputs": [],
   "source": [
    "x = cp.Variable(20)"
   ]
  },
  {
   "cell_type": "code",
   "execution_count": 5,
   "metadata": {},
   "outputs": [],
   "source": [
    "objective = cp.Minimize(cp.sum_squares(A*x - b))"
   ]
  },
  {
   "cell_type": "code",
   "execution_count": 6,
   "metadata": {},
   "outputs": [],
   "source": [
    "constraints = [x>=0,  x<=1]\n",
    "prob = cp.Problem(objective, constraints)"
   ]
  },
  {
   "cell_type": "code",
   "execution_count": 7,
   "metadata": {},
   "outputs": [
    {
     "name": "stdout",
     "output_type": "stream",
     "text": [
      "optimal\n",
      "19.83126370644502\n"
     ]
    }
   ],
   "source": [
    "result = prob.solve()\n",
    "print(prob.status)\n",
    "print(result)"
   ]
  },
  {
   "cell_type": "markdown",
   "metadata": {},
   "source": [
    "New Problem"
   ]
  },
  {
   "cell_type": "markdown",
   "metadata": {},
   "source": [
    "# Max 3x1 + 2x2 = z \n",
    "subject to\n",
    "2x1 + x2 <= 6\n",
    "7x1 + 8x2 <= 28\n",
    "x1 >= 0, x2 >= 0"
   ]
  },
  {
   "cell_type": "markdown",
   "metadata": {},
   "source": [
    "c(transpose) = [3, 2]\n",
    "A = [[2, 1], [7, 8]]"
   ]
  },
  {
   "cell_type": "code",
   "execution_count": 8,
   "metadata": {},
   "outputs": [],
   "source": [
    "x = cp.Variable(2) # [x1, x2]\n",
    "c = np.array([3, 2])\n",
    "\n",
    "A = np.array([[2, 1], [7, 8]])\n",
    "b = np.array([6, 28])"
   ]
  },
  {
   "cell_type": "code",
   "execution_count": 9,
   "metadata": {},
   "outputs": [],
   "source": [
    "z = A * x <= b\n",
    "constraints = []\n",
    "constraints.append(z)\n",
    "constraints.append(x >= 0)\n",
    "objective = cp.Maximize(c.T * x)"
   ]
  },
  {
   "cell_type": "code",
   "execution_count": 10,
   "metadata": {},
   "outputs": [],
   "source": [
    "prob = cp.Problem(objective, constraints)"
   ]
  },
  {
   "cell_type": "code",
   "execution_count": 11,
   "metadata": {},
   "outputs": [
    {
     "name": "stdout",
     "output_type": "stream",
     "text": [
      "optimal\n",
      "9.777777777777777\n",
      "[2.22222222 1.55555556]\n"
     ]
    }
   ],
   "source": [
    "result = prob.solve()\n",
    "print(prob.status)\n",
    "print(result)\n",
    "print(x.value)"
   ]
  },
  {
   "cell_type": "code",
   "execution_count": 12,
   "metadata": {},
   "outputs": [],
   "source": [
    "a = np.diag([1, 2, 3, 4, 5])"
   ]
  },
  {
   "cell_type": "code",
   "execution_count": 13,
   "metadata": {},
   "outputs": [
    {
     "data": {
      "text/plain": [
       "7"
      ]
     },
     "execution_count": 13,
     "metadata": {},
     "output_type": "execute_result"
    }
   ],
   "source": [
    "np.sum(a[2:4, 2:4]) # Learning how to index submatrices"
   ]
  },
  {
   "cell_type": "code",
   "execution_count": 14,
   "metadata": {},
   "outputs": [],
   "source": [
    "a = np.array([3, 3, 3])\n",
    "x = cp.Variable(3)"
   ]
  },
  {
   "cell_type": "code",
   "execution_count": 15,
   "metadata": {},
   "outputs": [],
   "source": [
    "constraints = [cp.sum(x) == 57]\n",
    "p = cp.Problem(cp.Maximize(a.T * x), constraints)"
   ]
  },
  {
   "cell_type": "code",
   "execution_count": 16,
   "metadata": {},
   "outputs": [
    {
     "name": "stdout",
     "output_type": "stream",
     "text": [
      "[19. 19. 19.]\n",
      "171.0\n"
     ]
    }
   ],
   "source": [
    "result = p.solve()\n",
    "print(x.value)\n",
    "print(result)"
   ]
  },
  {
   "cell_type": "markdown",
   "metadata": {},
   "source": [
    "# Bala's algorithm example"
   ]
  },
  {
   "cell_type": "code",
   "execution_count": 17,
   "metadata": {},
   "outputs": [],
   "source": [
    "c = np.array([3, 5, 6, 9, 10, 10])\n",
    "x = cp.Variable(6, boolean = True)\n",
    "A = np.array([\n",
    "    [-2, 6, -3, 4, 1, -2],\n",
    "    [-5, -3, 1, 3, -2, 1],\n",
    "    [5, -1, 4, -2, 2, -1]\n",
    "])\n",
    "b = np.array([2, -2, 3])"
   ]
  },
  {
   "cell_type": "code",
   "execution_count": 18,
   "metadata": {},
   "outputs": [],
   "source": [
    "objective = cp.Minimize(c.T * x)\n",
    "constraints = [ A @ x >= b ]\n",
    "# constraints = [ A @ x >= b , x[3] == 1] Can manually set one value\n",
    "p = cp.Problem(objective, constraints)"
   ]
  },
  {
   "cell_type": "code",
   "execution_count": 19,
   "metadata": {},
   "outputs": [
    {
     "name": "stdout",
     "output_type": "stream",
     "text": [
      "11.0\n",
      "[0. 1. 1. 0. 0. 0.]\n"
     ]
    }
   ],
   "source": [
    "result = p.solve()\n",
    "print(result)\n",
    "print(x.value)"
   ]
  },
  {
   "cell_type": "code",
   "execution_count": 20,
   "metadata": {},
   "outputs": [],
   "source": [
    "x = cp.Variable((3, 3))"
   ]
  },
  {
   "cell_type": "code",
   "execution_count": 21,
   "metadata": {},
   "outputs": [
    {
     "name": "stdout",
     "output_type": "stream",
     "text": [
      "(3, 3)\n"
     ]
    }
   ],
   "source": [
    "B = np.diag([3, 3, 3])\n",
    "print(B.shape)\n",
    "objective = cp.Maximize(x[0][0])\n",
    "constraints = [ cp.sum(x[0: 2, 0: 3]) == 23 ]\n",
    "c = [x <= 10]\n",
    "constraints.extend(c)\n",
    "p = cp.Problem(objective, constraints)"
   ]
  },
  {
   "cell_type": "code",
   "execution_count": 22,
   "metadata": {},
   "outputs": [
    {
     "name": "stdout",
     "output_type": "stream",
     "text": [
      "optimal\n"
     ]
    }
   ],
   "source": [
    "result = p.solve()\n",
    "print(p.status)"
   ]
  },
  {
   "cell_type": "code",
   "execution_count": 23,
   "metadata": {},
   "outputs": [
    {
     "name": "stdout",
     "output_type": "stream",
     "text": [
      "[[10.   2.6  2.6]\n",
      " [ 2.6  2.6  2.6]\n",
      " [-0.  -0.  -0. ]]\n"
     ]
    }
   ],
   "source": [
    "print(x.value)"
   ]
  },
  {
   "cell_type": "code",
   "execution_count": 24,
   "metadata": {},
   "outputs": [
    {
     "data": {
      "text/plain": [
       "True"
      ]
     },
     "execution_count": 24,
     "metadata": {},
     "output_type": "execute_result"
    }
   ],
   "source": [
    "x.value[0][0] == 10"
   ]
  },
  {
   "cell_type": "code",
   "execution_count": 25,
   "metadata": {},
   "outputs": [
    {
     "name": "stdout",
     "output_type": "stream",
     "text": [
      "optimal (x + y == 1) dual variable 0.0\n",
      "optimal (x - y >= 1) dual variable 2.0\n",
      "x - y value: 2.0\n"
     ]
    }
   ],
   "source": [
    "# Create two scalar optimization variables.\n",
    "x = [ cp.Variable() for i in range(0, 2)]\n",
    "\n",
    "# Create two constraints.\n",
    "sum = 0\n",
    "for i in range(len(x)):\n",
    "    sum += x[i]\n",
    "constraints = [sum == 2,\n",
    "               x[0] - x[1] >= 1]\n",
    "\n",
    "# Form objective.\n",
    "obj = cp.Minimize((x[0] - x[1])**2)\n",
    "\n",
    "# Form and solve problem.\n",
    "prob = cp.Problem(obj, constraints)\n",
    "prob.solve()\n",
    "\n",
    "# The optimal dual variable (Lagrange multiplier) for\n",
    "# a constraint is stored in constraint.dual_value.\n",
    "print(\"optimal (x + y == 1) dual variable\", constraints[0].dual_value)\n",
    "print(\"optimal (x - y >= 1) dual variable\", constraints[1].dual_value)\n",
    "print(\"x - y value:\", (x[0] + x[1]).value)"
   ]
  },
  {
   "cell_type": "code",
   "execution_count": 27,
   "metadata": {},
   "outputs": [],
   "source": [
    "intersection_matrix = np.random.randint(0, 10, size=(15, 15))\n"
   ]
  },
  {
   "cell_type": "code",
   "execution_count": 28,
   "metadata": {},
   "outputs": [
    {
     "data": {
      "text/plain": [
       "[]"
      ]
     },
     "execution_count": 28,
     "metadata": {},
     "output_type": "execute_result"
    },
    {
     "data": {
      "image/png": "[encoded data removed]",
      "text/plain": [
       "<Figure size 576x576 with 1 Axes>"
      ]
     },
     "metadata": {
      "needs_background": "light"
     },
     "output_type": "display_data"
    }
   ],
   "source": [
    "import numpy as np\n",
    "import matplotlib.pyplot as plt\n",
    "\n",
    "fig, ax = plt.subplots(figsize=(8,8))\n",
    "\n",
    "min_val, max_val = 0, 15\n",
    "\n",
    "x = np.array([[3, 1, 7, 6, 5, 9, 4, 8, 2],\n",
    " [4, 6, 5, 2, 8, 3, 7, 1, 9],\n",
    " [2, 8, 9, 1, 4, 7, 5, 6, 3],\n",
    " [6, 2, 3, 5, 9, 4, 8, 7, 1],\n",
    " [9, 7, 1, 3, 6, 8, 2, 5, 4],\n",
    " [8, 5, 4, 7, 1, 2, 3, 9, 6],\n",
    " [1, 3, 6, 4, 7, 5, 9, 2, 8],\n",
    " [5, 9, 2, 8, 3, 1, 6, 4, 7],\n",
    " [7, 4, 8, 9, 2, 6, 1, 3, 5]])\n",
    "\n",
    "plt.rcParams[\"font.size\"] = \"25\"\n",
    "\n",
    "for i in range(9):\n",
    "    for j in range(9):\n",
    "        c = x[j,i]\n",
    "        ax.text(i, j, str(c), va='center', ha='center')\n",
    "        \n",
    "        \n",
    "ax.imshow(x, alpha = 0, cmap=None)\n",
    "ax.set_title(\"Solution\")\n",
    "ax.set_yticklabels([])\n",
    "ax.set_xticklabels([])"
   ]
  },
  {
   "cell_type": "code",
   "execution_count": null,
   "metadata": {},
   "outputs": [],
   "source": [
    "print(intersection_matrix[0, 0])"
   ]
  },
  {
   "cell_type": "code",
   "execution_count": 3,
   "metadata": {},
   "outputs": [],
   "source": [
    "a = np.array([\n",
    "    [2,4],\n",
    "    [1, 3],\n",
    "    [1, 2],\n",
    "    [3, 0],\n",
    "    [4.5, 1.5]\n",
    "])"
   ]
  },
  {
   "cell_type": "code",
   "execution_count": 4,
   "metadata": {},
   "outputs": [
    {
     "name": "stdout",
     "output_type": "stream",
     "text": [
      "[[2.  4. ]\n",
      " [1.  3. ]\n",
      " [1.  2. ]\n",
      " [3.  0. ]\n",
      " [4.5 1.5]]\n"
     ]
    }
   ],
   "source": [
    "print(a)"
   ]
  },
  {
   "cell_type": "code",
   "execution_count": 5,
   "metadata": {},
   "outputs": [
    {
     "data": {
      "text/plain": [
       "[<matplotlib.lines.Line2D at 0x7fcb54632898>]"
      ]
     },
     "execution_count": 5,
     "metadata": {},
     "output_type": "execute_result"
    },
    {
     "data": {
      "image/png": "[encoded data removed]",
      "text/plain": [
       "<Figure size 576x576 with 1 Axes>"
      ]
     },
     "metadata": {
      "needs_background": "light"
     },
     "output_type": "display_data"
    }
   ],
   "source": [
    "fig = plt.figure(figsize=(8,8))\n",
    "ax = fig.add_subplot(111)\n",
    "ax.plot(a[:,0], a[:,1], linewidth=3, color=\"black\")\n",
    "ax.plot([a[0, 0], a[-1,0]], [a[0, 1], a[-1, 1]], linewidth=3, color=\"black\")"
   ]
  },
  {
   "cell_type": "code",
   "execution_count": 7,
   "metadata": {},
   "outputs": [],
   "source": [
    "def get_equations(a):\n",
    "    A = []\n",
    "    b = []\n",
    "    for i in range(-1, a.shape[0] - 1):\n",
    "        r = [ - a[i][1] + a[i+1][1], a[i][0] - a[i+1][0] ]\n",
    "        c = a[i][0] * a[i+1][1] - a[i][1] * a[i+1][0]\n",
    "        A.append(r)  \n",
    "        b.append(c)\n",
    "    return np.array(A), np.array(b)\n",
    "\n",
    "A, b = get_equations(a)"
   ]
  },
  {
   "cell_type": "code",
   "execution_count": 8,
   "metadata": {},
   "outputs": [
    {
     "name": "stdout",
     "output_type": "stream",
     "text": [
      "[[ 2.5  2.5]\n",
      " [-1.   1. ]\n",
      " [-1.   0. ]\n",
      " [-2.  -2. ]\n",
      " [ 1.5 -1.5]] [15.   2.  -1.  -6.   4.5]\n"
     ]
    }
   ],
   "source": [
    "print(A, b)"
   ]
  },
  {
   "cell_type": "code",
   "execution_count": 18,
   "metadata": {},
   "outputs": [
    {
     "name": "stdout",
     "output_type": "stream",
     "text": [
      "1.4142135623730951\n"
     ]
    }
   ],
   "source": [
    "print(np.linalg.norm(A[1]))"
   ]
  },
  {
   "cell_type": "code",
   "execution_count": 59,
   "metadata": {},
   "outputs": [
    {
     "name": "stdout",
     "output_type": "stream",
     "text": [
      "[3.  1.5]\n"
     ]
    }
   ],
   "source": [
    "x = cp.Variable(2)\n",
    "line_number = 4\n",
    "objective = cp.Maximize((- A[line_number] * x.T + b[line_number]) / np.linalg.norm(A[line_number]) )\n",
    "constraints = [A @ x.T <= b] # Point is inside the polygon\n",
    "value = (- A[line_number] @ x.T + b[line_number]) / np.linalg.norm(A[line_number])\n",
    "for i in range(0, a.shape[0]):\n",
    "    if i == line_number:\n",
    "        continue\n",
    "    dist_other = (- A[i] @ x + b[i]) / np.linalg.norm(A[i])\n",
    "    constraints.append(value <= dist_other)\n",
    "prob = cp.Problem(objective, constraints)\n",
    "_ = prob.solve()\n",
    "print(x.value)"
   ]
  },
  {
   "cell_type": "code",
   "execution_count": 60,
   "metadata": {},
   "outputs": [
    {
     "name": "stdout",
     "output_type": "stream",
     "text": [
      "[3.  1.5] 1.0606601717798212\n"
     ]
    }
   ],
   "source": [
    "center = x.value\n",
    "radius = (- A[0] @ center.T + b[0] ) / np.linalg.norm(A[0])\n",
    "print(center, radius)"
   ]
  },
  {
   "cell_type": "code",
   "execution_count": 61,
   "metadata": {},
   "outputs": [
    {
     "data": {
      "text/plain": [
       "<matplotlib.patches.Circle at 0x7fcb539505c0>"
      ]
     },
     "execution_count": 61,
     "metadata": {},
     "output_type": "execute_result"
    },
    {
     "data": {
      "image/png": "[encoded data removed]",
      "text/plain": [
       "<Figure size 576x576 with 1 Axes>"
      ]
     },
     "metadata": {
      "needs_background": "light"
     },
     "output_type": "display_data"
    }
   ],
   "source": [
    "fig = plt.figure(figsize=(8,8))\n",
    "ax = fig.add_subplot(111)\n",
    "ax.plot(a[:,0], a[:,1], linewidth=3, color=\"black\")\n",
    "ax.plot([a[0, 0], a[-1,0]], [a[0, 1], a[-1, 1]], linewidth=3, color=\"black\")\n",
    "circle1 = plt.Circle(center, radius, fill = None, linewidth=5, color=\"green\")\n",
    "ax.add_artist(circle1)"
   ]
  },
  {
   "cell_type": "code",
   "execution_count": null,
   "metadata": {},
   "outputs": [],
   "source": []
  }
 ],
 "metadata": {
  "kernelspec": {
   "display_name": "Python 3",
   "language": "python",
   "name": "python3"
  },
  "language_info": {
   "codemirror_mode": {
    "name": "ipython",
    "version": 3
   },
   "file_extension": ".py",
   "mimetype": "text/x-python",
   "name": "python",
   "nbconvert_exporter": "python",
   "pygments_lexer": "ipython3",
   "version": "3.6.8"
  }
 },
 "nbformat": 4,
 "nbformat_minor": 2
}
