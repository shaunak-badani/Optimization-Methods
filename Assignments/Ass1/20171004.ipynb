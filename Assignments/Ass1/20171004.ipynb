{
 "cells": [
  {
   "cell_type": "markdown",
   "metadata": {
    "colab_type": "text",
    "editable": false,
    "id": "nvBtwXAOrEdV"
   },
   "source": [
    "# Assignment-1 Linear Programming\n",
    "  The objective of this assignment is to show the applications of linear programming in real life problems. You will be asked to solve problems from classical physics to puzzles. \n",
    "\n",
    "## Instructions \n",
    "  - For each question you need to write the formulation in markdown and solve the problem using `cvxpy`. \n",
    "  - Ensure that this notebook runs without errors when the cells are run in sequence.\n",
    "  - Plagarism will not be tolerated.\n",
    "  - Use only `python3` to run your code.\n",
    "  - If you are facing issues running the notebook on your local system. Use google collab to run the notebook online. To run the notebook online, go to [google collab](!https://colab.research.google.com/notebooks/intro.ipynb). Go to `File  -> Upload Notebook` and import the notebook file \n",
    "\n",
    "## Submission  \n",
    "- Rename the notebook to `<roll_number>.ipynb` and submit **ONLY** the notebook file on moodle.\n",
    "\n",
    "## Problems \n",
    "1. Sudoku \n",
    "2. Best Polyhedron \n",
    "3. Largest Ball\n",
    "4. Illumination Problem\n",
    "5. Jigsaw Puzzle "
   ]
  },
  {
   "cell_type": "code",
   "execution_count": 1,
   "metadata": {
    "colab": {},
    "colab_type": "code",
    "id": "GpsAXB2ht0DN"
   },
   "outputs": [
    {
     "name": "stdout",
     "output_type": "stream",
     "text": [
      "Collecting numpy==1.18.1\n",
      "  Using cached https://files.pythonhosted.org/packages/62/20/4d43e141b5bc426ba38274933ef8e76e85c7adea2c321ecf9ebf7421cedf/numpy-1.18.1-cp36-cp36m-manylinux1_x86_64.whl\n",
      "Collecting matplotlib==3.1.3\n",
      "  Using cached https://files.pythonhosted.org/packages/7e/07/4b361d6d0f4e08942575f83a11d33f36897e1aae4279046606dd1808778a/matplotlib-3.1.3-cp36-cp36m-manylinux1_x86_64.whl\n",
      "Collecting scipy==1.4.1\n",
      "  Using cached https://files.pythonhosted.org/packages/dc/29/162476fd44203116e7980cfbd9352eef9db37c49445d1fec35509022f6aa/scipy-1.4.1-cp36-cp36m-manylinux1_x86_64.whl\n",
      "Collecting sklearn\n",
      "Collecting python-dateutil>=2.1 (from matplotlib==3.1.3)\n",
      "  Using cached https://files.pythonhosted.org/packages/d4/70/d60450c3dd48ef87586924207ae8907090de0b306af2bce5d134d78615cb/python_dateutil-2.8.1-py2.py3-none-any.whl\n",
      "Collecting pyparsing!=2.0.4,!=2.1.2,!=2.1.6,>=2.0.1 (from matplotlib==3.1.3)\n",
      "  Using cached https://files.pythonhosted.org/packages/5d/bc/1e58593167fade7b544bfe9502a26dc860940a79ab306e651e7f13be68c2/pyparsing-2.4.6-py2.py3-none-any.whl\n",
      "Collecting kiwisolver>=1.0.1 (from matplotlib==3.1.3)\n",
      "  Using cached https://files.pythonhosted.org/packages/f8/a1/5742b56282449b1c0968197f63eae486eca2c35dcd334bab75ad524e0de1/kiwisolver-1.1.0-cp36-cp36m-manylinux1_x86_64.whl\n",
      "Collecting cycler>=0.10 (from matplotlib==3.1.3)\n",
      "  Using cached https://files.pythonhosted.org/packages/f7/d2/e07d3ebb2bd7af696440ce7e754c59dd546ffe1bbe732c8ab68b9c834e61/cycler-0.10.0-py2.py3-none-any.whl\n",
      "Collecting scikit-learn (from sklearn)\n",
      "  Using cached https://files.pythonhosted.org/packages/d1/48/e9fa9e252abcd1447eff6f9257636af31758a6e46fd5ce5d3c879f6907cb/scikit_learn-0.22.1-cp36-cp36m-manylinux1_x86_64.whl\n",
      "Collecting six>=1.5 (from python-dateutil>=2.1->matplotlib==3.1.3)\n",
      "  Using cached https://files.pythonhosted.org/packages/65/eb/1f97cb97bfc2390a276969c6fae16075da282f5058082d4cb10c6c5c1dba/six-1.14.0-py2.py3-none-any.whl\n",
      "Collecting setuptools (from kiwisolver>=1.0.1->matplotlib==3.1.3)\n",
      "  Using cached https://files.pythonhosted.org/packages/3d/72/1c1498c1e908e0562b1e1cd30012580baa7d33b5b0ffdbeb5fde2462cc71/setuptools-45.2.0-py3-none-any.whl\n",
      "Collecting joblib>=0.11 (from scikit-learn->sklearn)\n",
      "  Using cached https://files.pythonhosted.org/packages/28/5c/cf6a2b65a321c4a209efcdf64c2689efae2cb62661f8f6f4bb28547cf1bf/joblib-0.14.1-py2.py3-none-any.whl\n",
      "Installing collected packages: numpy, six, python-dateutil, pyparsing, setuptools, kiwisolver, cycler, matplotlib, scipy, joblib, scikit-learn, sklearn\n",
      "Successfully installed cycler-0.10.0 joblib-0.14.1 kiwisolver-1.1.0 matplotlib-3.1.3 numpy-1.18.1 pyparsing-2.4.6 python-dateutil-2.8.1 scikit-learn-0.22.1 scipy-1.4.1 setuptools-45.2.0 six-1.14.0 sklearn-0.0\n",
      "Collecting cvxpy==1.0.25\n",
      "Collecting scikit-image==0.16.2\n",
      "  Using cached https://files.pythonhosted.org/packages/c8/bb/771800366f41d66eef51e4b80515f8ef7edab234a3f244fdce3bafe89b39/scikit_image-0.16.2-cp36-cp36m-manylinux1_x86_64.whl\n",
      "Collecting cvxopt\n",
      "  Using cached https://files.pythonhosted.org/packages/9b/99/e95f164a0c94725921b784814a239479035db8459162bf1335ce764d64ed/cvxopt-1.2.4-cp36-cp36m-manylinux1_x86_64.whl\n",
      "Collecting osqp>=0.4.1 (from cvxpy==1.0.25)\n",
      "  Using cached https://files.pythonhosted.org/packages/6c/59/2b80e881be227eecef3f2b257339d182167b55d22a1315ff4303ddcfd42f/osqp-0.6.1-cp36-cp36m-manylinux1_x86_64.whl\n",
      "Collecting scipy>=1.1.0 (from cvxpy==1.0.25)\n",
      "  Using cached https://files.pythonhosted.org/packages/dc/29/162476fd44203116e7980cfbd9352eef9db37c49445d1fec35509022f6aa/scipy-1.4.1-cp36-cp36m-manylinux1_x86_64.whl\n",
      "Collecting multiprocess (from cvxpy==1.0.25)\n",
      "Collecting scs>=1.1.3 (from cvxpy==1.0.25)\n",
      "Collecting numpy>=1.15 (from cvxpy==1.0.25)\n",
      "  Using cached https://files.pythonhosted.org/packages/62/20/4d43e141b5bc426ba38274933ef8e76e85c7adea2c321ecf9ebf7421cedf/numpy-1.18.1-cp36-cp36m-manylinux1_x86_64.whl\n",
      "Collecting six (from cvxpy==1.0.25)\n",
      "  Using cached https://files.pythonhosted.org/packages/65/eb/1f97cb97bfc2390a276969c6fae16075da282f5058082d4cb10c6c5c1dba/six-1.14.0-py2.py3-none-any.whl\n",
      "Collecting ecos>=2 (from cvxpy==1.0.25)\n",
      "  Using cached https://files.pythonhosted.org/packages/55/ed/d131ff51f3a8f73420eb1191345eb49f269f23cadef515172e356018cde3/ecos-2.0.7.post1-cp36-cp36m-manylinux1_x86_64.whl\n",
      "Collecting matplotlib!=3.0.0,>=2.0.0 (from scikit-image==0.16.2)\n",
      "  Using cached https://files.pythonhosted.org/packages/7e/07/4b361d6d0f4e08942575f83a11d33f36897e1aae4279046606dd1808778a/matplotlib-3.1.3-cp36-cp36m-manylinux1_x86_64.whl\n",
      "Collecting pillow>=4.3.0 (from scikit-image==0.16.2)\n",
      "  Using cached https://files.pythonhosted.org/packages/19/5e/23dcc0ce3cc2abe92efd3cd61d764bee6ccdf1b667a1fb566f45dc249953/Pillow-7.0.0-cp36-cp36m-manylinux1_x86_64.whl\n",
      "Collecting imageio>=2.3.0 (from scikit-image==0.16.2)\n",
      "  Using cached https://files.pythonhosted.org/packages/1a/de/f7f985018f462ceeffada7f6e609919fbcc934acd9301929cba14bc2c24a/imageio-2.6.1-py3-none-any.whl\n",
      "Collecting PyWavelets>=0.4.0 (from scikit-image==0.16.2)\n",
      "  Using cached https://files.pythonhosted.org/packages/59/bb/d2b85265ec9fa3c1922210c9393d4cdf7075cc87cce6fe671d7455f80fbc/PyWavelets-1.1.1-cp36-cp36m-manylinux1_x86_64.whl\n",
      "Collecting networkx>=2.0 (from scikit-image==0.16.2)\n",
      "  Using cached https://files.pythonhosted.org/packages/41/8f/dd6a8e85946def36e4f2c69c84219af0fa5e832b018c970e92f2ad337e45/networkx-2.4-py3-none-any.whl\n",
      "Collecting future (from osqp>=0.4.1->cvxpy==1.0.25)\n",
      "Collecting dill>=0.3.1 (from multiprocess->cvxpy==1.0.25)\n",
      "Collecting python-dateutil>=2.1 (from matplotlib!=3.0.0,>=2.0.0->scikit-image==0.16.2)\n",
      "  Using cached https://files.pythonhosted.org/packages/d4/70/d60450c3dd48ef87586924207ae8907090de0b306af2bce5d134d78615cb/python_dateutil-2.8.1-py2.py3-none-any.whl\n",
      "Collecting pyparsing!=2.0.4,!=2.1.2,!=2.1.6,>=2.0.1 (from matplotlib!=3.0.0,>=2.0.0->scikit-image==0.16.2)\n",
      "  Using cached https://files.pythonhosted.org/packages/5d/bc/1e58593167fade7b544bfe9502a26dc860940a79ab306e651e7f13be68c2/pyparsing-2.4.6-py2.py3-none-any.whl\n",
      "Collecting kiwisolver>=1.0.1 (from matplotlib!=3.0.0,>=2.0.0->scikit-image==0.16.2)\n",
      "  Using cached https://files.pythonhosted.org/packages/f8/a1/5742b56282449b1c0968197f63eae486eca2c35dcd334bab75ad524e0de1/kiwisolver-1.1.0-cp36-cp36m-manylinux1_x86_64.whl\n",
      "Collecting cycler>=0.10 (from matplotlib!=3.0.0,>=2.0.0->scikit-image==0.16.2)\n",
      "  Using cached https://files.pythonhosted.org/packages/f7/d2/e07d3ebb2bd7af696440ce7e754c59dd546ffe1bbe732c8ab68b9c834e61/cycler-0.10.0-py2.py3-none-any.whl\n",
      "Collecting decorator>=4.3.0 (from networkx>=2.0->scikit-image==0.16.2)\n",
      "  Using cached https://files.pythonhosted.org/packages/8f/b7/f329cfdc75f3d28d12c65980e4469e2fa373f1953f5df6e370e84ea2e875/decorator-4.4.1-py2.py3-none-any.whl\n",
      "Collecting setuptools (from kiwisolver>=1.0.1->matplotlib!=3.0.0,>=2.0.0->scikit-image==0.16.2)\n",
      "  Using cached https://files.pythonhosted.org/packages/3d/72/1c1498c1e908e0562b1e1cd30012580baa7d33b5b0ffdbeb5fde2462cc71/setuptools-45.2.0-py3-none-any.whl\n",
      "Installing collected packages: future, numpy, scipy, osqp, dill, multiprocess, scs, six, ecos, cvxpy, python-dateutil, pyparsing, setuptools, kiwisolver, cycler, matplotlib, pillow, imageio, PyWavelets, decorator, networkx, scikit-image, cvxopt\n",
      "Successfully installed PyWavelets-1.1.1 cvxopt-1.2.4 cvxpy-1.0.25 cycler-0.10.0 decorator-4.4.1 dill-0.3.1.1 ecos-2.0.7.post1 future-0.18.2 imageio-2.6.1 kiwisolver-1.1.0 matplotlib-3.1.3 multiprocess-0.70.9 networkx-2.4 numpy-1.18.1 osqp-0.6.1 pillow-7.0.0 pyparsing-2.4.6 python-dateutil-2.8.1 scikit-image-0.16.2 scipy-1.4.1 scs-2.1.1.post2 setuptools-45.2.0 six-1.14.0\n"
     ]
    }
   ],
   "source": [
    "# Installation dependencies\n",
    "!pip3 install numpy==1.18.1 matplotlib==3.1.3 scipy==1.4.1 sklearn\n",
    "!pip3 install cvxpy==1.0.25 scikit-image==0.16.2 cvxopt"
   ]
  },
  {
   "cell_type": "code",
   "execution_count": 2,
   "metadata": {
    "colab": {},
    "colab_type": "code",
    "id": "4j7a0JeQuVeO"
   },
   "outputs": [],
   "source": [
    "# Compatibility imports\n",
    "from __future__ import print_function, division\n",
    "\n",
    "# Imports\n",
    "import os \n",
    "import sys\n",
    "import random\n",
    "\n",
    "import numpy as np \n",
    "import cvxpy as cp \n",
    "\n",
    "import matplotlib.pyplot as plt \n",
    "\n",
    "# Modules specific to problems \n",
    "from sklearn.datasets import make_circles # For problem 2 (Best Polyhedron) \n",
    "from scipy.spatial import ConvexHull # For problem 3 (Largest Ball in Polyhedron)\n",
    "from scipy.linalg import null_space # For problem 4 (Illumination)\n",
    "import matplotlib.cbook as cbook # For problem 5 (Jigsaw)\n",
    "from skimage.transform import resize # For problem 5 (Jigsaw)\n",
    "%matplotlib inline"
   ]
  },
  {
   "cell_type": "markdown",
   "metadata": {
    "colab_type": "text",
    "editable": false,
    "id": "9yA4_UP0uvTg"
   },
   "source": [
    "## Question-1 Sudoku \n",
    "- In this problem you will develop a mixed integer programming algorithm, based upon branch and bound, to solve Sudoku puzzles as described in class.\n",
    "- In particular, you need to implement the class SudokuSolver \n",
    "\n",
    "The function takes as input a Sudoku puzzle as a 9x9 “list of lists” of integers, i.e.,\n",
    "\n",
    "\n",
    "    puzzle = [[4, 8, 0, 3, 0, 0, 0, 0, 0],\n",
    "              [0, 0, 0, 0, 0, 0, 0, 7, 1],\n",
    "              [0, 2, 0, 0, 0, 0, 0, 0, 0],\n",
    "              [7, 0, 5, 0, 0, 0, 0, 6, 0],\n",
    "              [0, 0, 0, 2, 0, 0, 8, 0, 0],\n",
    "              [0, 0, 0, 0, 0, 0, 0, 0, 0],\n",
    "              [0, 0, 1, 0, 7, 6, 0, 0, 0],\n",
    "              [3, 0, 0, 0, 0, 0, 4, 0, 0],\n",
    "              [0, 0, 0, 0, 5, 0, 0, 0, 0]]\n",
    "\n",
    "where zeros represent missing entries that must be assigned by your algorithm, and all other integers represent a known assignment. \n",
    "\n",
    "- The class SudokuSolver inherits the Sudoku class. You need to make changes **only** to the SudokuSolver class. Write function `plot` to plot the unsolved and solved puzzle. Write function `solve` to create our own solver, the function can get the unsolved puzzle as the input as should return a 9x9 numpy array (solved puzzle), where solved puzzle contains the input puzzle with all the zeros assigned to their correct values. For instance, for the above puzzle\n",
    "this would be\n",
    "\n",
    "    \n",
    "    solved_puzzle = [[4, 8, 7, 3, 1, 2, 6, 9, 5],\n",
    "                     [5, 9, 3, 6, 8, 4, 2, 7, 1],\n",
    "                     [1, 2, 6, 5, 9, 7, 3, 8, 4],\n",
    "                     [7, 3, 5, 8, 4, 9, 1, 6, 2],\n",
    "                     [9, 1, 4, 2, 6, 5, 8, 3, 7],\n",
    "                     [2, 6, 8, 7, 3, 1, 5, 4, 9],\n",
    "                     [8, 5, 1, 4, 7, 6, 9, 2, 3],\n",
    "                     [3, 7, 9, 1, 2, 8, 4, 5, 6],\n",
    "                     [6, 4, 2, 9, 5, 3, 7, 1, 8]]\n",
    "    \n",
    "\n",
    "- You should write code to solve this problem using cvxpy.\n",
    "\n",
    "**Write the code in SudokuSolver class only**. "
   ]
  },
  {
   "cell_type": "code",
   "execution_count": 3,
   "metadata": {
    "colab": {},
    "colab_type": "code",
    "editable": false,
    "id": "ssczBsUDu9un"
   },
   "outputs": [],
   "source": [
    "# Class Sudoku will generate new sudoku problems for you to solve. You cannot change this code. Complete the formulation and the solver below \n",
    "class Sudoku():\n",
    "  def __init__(self):\n",
    "    super(Sudoku,self).__init__()\n",
    "    self.puzzle = None # Unsolved sudoku \n",
    "    self.solution = None # Store the solution here\n",
    "    pass\n",
    "\n",
    "  def construct_solution(self):\n",
    "    \"\"\"\n",
    "      This function created a 9x9 solved sudoku example. \n",
    "      It can be used as a reference to see the performance of your solver.\n",
    "    \"\"\"\n",
    "    while True: # until a solved sudoku puzzle if created\n",
    "      puzzle = np.zeros((9,9))\n",
    "      rows    = [set(range(1,10)) for i in range(9)] #   set of available\n",
    "      columns = [set(range(1,10)) for i in range(9)] #   numbers for each\n",
    "      squares = [set(range(1,10)) for i in range(9)] #   row, column and square\n",
    "\n",
    "      try:\n",
    "        for i in range(9): # for each roe\n",
    "          for j in range(9): # for each column\n",
    "\n",
    "            # Randomly choose a possible number for the location\n",
    "            choices = rows[i].intersection(columns[j]).intersection(squares[(i//3)*3 + j//3])\n",
    "            choice  = random.choice(list(choices))\n",
    "\n",
    "            puzzle[i,j] = choice\t# update the puzzle\n",
    "            \n",
    "            # Remove from the choice from row,column, square\n",
    "            rows[i].discard(choice) \n",
    "            columns[j].discard(choice)\n",
    "            squares[(i//3)*3 + j//3].discard(choice)\n",
    "\n",
    "        # success! every cell is filled.\n",
    "        return puzzle\n",
    "\n",
    "      except IndexError:\n",
    "        # if there is an IndexError, we have worked ourselves in a corner (we just start over)\n",
    "        continue \n",
    "      \n",
    "  def construct_problem(self,solution,n=28):\n",
    "    \"\"\"\n",
    "      Construct the puzzle by removing a cell if it is possible to deduce a cell's value from the remaining cells \n",
    "      @param: n => minimum number of unplucked/remaining cells  \n",
    "    \"\"\"\n",
    "\n",
    "    def canBeDeduced(puz, i, j, c): # check if the cell can be deduced from the remaining cells \n",
    "      v = puz[c//9,c%9]\n",
    "      if puz[i,j] == v: return True\n",
    "      if puz[i,j] in range(1,10): return False\n",
    "        \n",
    "      for m in range(9): # test row, col, square\n",
    "        # if not the cell itself, and the mth cell of the group contains the value v, then \"no\"\n",
    "        if not (m==c//9 and j==c%9) and puz[m,j] == v: return False\n",
    "        if not (i==c//9 and m==c%9) and puz[i,m] == v: return False\n",
    "        if not ((i//3)*3 + m//3==c//9 and (j//3)*3 + m%3==c%9) and puz[(i//3)*3 + m//3,(j//3)*3 + m%3] == v:\n",
    "          return False\n",
    "\n",
    "      return True\n",
    "\n",
    "\n",
    "    cells = set(range(81))\t\n",
    "    cellsLeft = set(range(81))\n",
    "\n",
    "    while len(cells) > n and len(cellsLeft): # Cells in the problem > n and cells left to be plucked > 0\t\n",
    "      cell = random.choice(list(cellsLeft)) # choose a random cell\n",
    "      cellsLeft.discard(cell)\n",
    "\n",
    "      # record whether another cell in these groups could also take\n",
    "      # on the value we are trying to pluck\n",
    "      row = col = square = False  \n",
    "\n",
    "      for i in range(9): # For all numbers\n",
    "        if i != cell/9: # can be deduced from the row\n",
    "          if canBeDeduced(solution, i, cell%9, cell): row = True\n",
    "        if i != cell%9: # can be deduced from the col\n",
    "          if canBeDeduced(solution, cell//9, i, cell): col = True\n",
    "        if not (((cell//9)//3)*3 + i//3 == cell//9 and ((cell//9)%3)*3 + i%3 == cell%9): # can be deduced from the square\n",
    "          if canBeDeduced(solution, ((cell//9)//3)*3 + i//3, ((cell//9)%3)*3 + i%3, cell): square = True\n",
    "\n",
    "      if row and col and square:\n",
    "        continue # could not pluck this cell, try again.\n",
    "      else:\n",
    "        # this is a pluckable cell!\n",
    "        solution[cell//9][cell%9] = 0 # 0 denotes a blank cell\n",
    "        cells.discard(cell) # remove from the set of visible cells (pluck it)\n",
    "        # we don't need to reset \"cellsleft\" because if a cell was not pluckable\n",
    "        # earlier, then it will still not be pluckable now (with less information\n",
    "        # on the board).\n",
    "\n",
    "    return solution    "
   ]
  },
  {
   "cell_type": "code",
   "execution_count": 4,
   "metadata": {},
   "outputs": [],
   "source": [
    "def generate_sudoku():\n",
    "    \"\"\"\n",
    "    Generates a new sudoku problem by calling above class constructor\n",
    "    Return type: sudoku object\n",
    "    Puzzle stored in obj.puzzle\n",
    "    Solution stored in obj.solution\n",
    "    \"\"\"\n",
    "    new_sudoku = Sudoku()\n",
    "    problem = new_sudoku.construct_solution()\n",
    "    sol = np.copy(problem)\n",
    "    new_sudoku.construct_problem(problem)\n",
    "    new_sudoku.puzzle, new_sudoku.solution = problem, sol\n",
    "    return new_sudoku\n",
    "\n",
    "sud = generate_sudoku()"
   ]
  },
  {
   "cell_type": "code",
   "execution_count": 5,
   "metadata": {},
   "outputs": [
    {
     "name": "stdout",
     "output_type": "stream",
     "text": [
      "<class 'numpy.float64'>\n",
      "[[1. 7. 2. 8. 6. 9. 3. 5. 4.]\n",
      " [6. 9. 8. 3. 4. 5. 2. 7. 1.]\n",
      " [4. 5. 3. 7. 1. 2. 8. 9. 6.]\n",
      " [9. 8. 5. 1. 7. 4. 6. 3. 2.]\n",
      " [3. 1. 4. 2. 9. 6. 7. 8. 5.]\n",
      " [7. 2. 6. 5. 3. 8. 1. 4. 9.]\n",
      " [5. 3. 1. 4. 2. 7. 9. 6. 8.]\n",
      " [8. 6. 7. 9. 5. 1. 4. 2. 3.]\n",
      " [2. 4. 9. 6. 8. 3. 5. 1. 7.]]\n"
     ]
    }
   ],
   "source": [
    "print(type(sud.puzzle[0][0]))\n",
    "print(sud.solution)"
   ]
  },
  {
   "cell_type": "code",
   "execution_count": 6,
   "metadata": {},
   "outputs": [],
   "source": [
    "def pretty_print(x, title):\n",
    "    x = x.astype(int)\n",
    "    fig, ax = plt.subplots(figsize=(8,8))\n",
    "    plt.rcParams[\"font.size\"] = \"25\"\n",
    "\n",
    "    for i in range(9):\n",
    "        for j in range(9):\n",
    "            c = x[j,i]\n",
    "            ax.text(i, j, str(c), va='center', ha='center')\n",
    "\n",
    "\n",
    "    ax.imshow(x, alpha = 0, cmap=None)\n",
    "    ax.set_title(title)\n",
    "    ax.set_yticklabels([])\n",
    "    ax.set_xticklabels([])"
   ]
  },
  {
   "cell_type": "markdown",
   "metadata": {
    "colab_type": "text",
    "id": "zJ-WMy80BYhA"
   },
   "source": [
    "## Solving Sudoku using Integer Programming\n",
    "\n",
    "\n",
    "### X, a (9, 9, 9) variable\n",
    "* X[i] denotes a 9 * 9 binary grid, wherein grid[j][k] is 1 if sudoku[j][k] = i, else is 0\n",
    "\n",
    "Defining constraints as below : \n",
    "$$ \\sum_{v=1}^{9}x_{vrc} = 1 \\: \\: \\forall \\: c \\: \\in [1, 9] \\: \\& \\: \\forall \\: r \\in \\: [1,9]$$\n",
    "$$ \\sum_{r=1}^{9}x_{vrc} = 1 \\: \\: \\forall \\: c \\: \\in [1, 9] \\: \\& \\: \\forall \\: v \\in \\: [1,9]$$\n",
    "$$ \\sum_{c=1}^{9}x_{vrc} = 1 \\: \\: \\forall \\: v \\: \\in [1, 9] \\: \\& \\: \\forall \\: r \\in \\: [1,9]$$\n",
    "<br/>\n",
    "$$ \\sum_{c=3*p}^{3*(p+1)}\\sum_{r=3*q}^{3*(q+1)}x_{vrc} = 1 \\: \\: \\forall \\: v \\: \\in [1, 9] \\: \\& \\: \\forall \\: p \\in \\: [0,3) \\: \\& \\: \\forall \\: q \\in \\: [0,3) $$\n",
    "\n",
    "Explanation of the constraints is as follows (in order with the equations written above): \n",
    "* Across all values possible, only one of them should be 1, all others should be 0, as only one number can remain in one cell.\n",
    "* Sum of the same value across an entire row should be 1, indicating that only one of the value remains in the row.\n",
    "* Sum of the same value across an entire column should be 1, indicating that only one of the value remains in the column.\n",
    "* Sum of the same value in a submatrix of (3 * 3) should be 1, as only one of the value can remain in the 3 * 3 grid.\n",
    "\n",
    "Reference : [Solving Sudoku using integer programming](https://towardsdatascience.com/using-integer-linear-programming-to-solve-sudoku-puzzles-15e9d2a70baa)"
   ]
  },
  {
   "cell_type": "code",
   "execution_count": 7,
   "metadata": {
    "colab": {
     "base_uri": "https://localhost:8080/",
     "height": 367
    },
    "colab_type": "code",
    "id": "Pa6-pSDmCRk_",
    "outputId": "12eec2cc-fd49-4b8c-aaee-b41a0b1d9a57"
   },
   "outputs": [],
   "source": [
    "# Create your sudoku puzzle solver here\n",
    "class SudokuSolver(Sudoku):\n",
    "  def __init__(self):\n",
    "    super(SudokuSolver,self).__init__()\n",
    "    self.solution = self.construct_solution() # Store the solution here\n",
    "    self.puzzle = self.construct_problem(self.solution.copy(),n=28) # Unsolved sudoku \n",
    "    self.solved = self.puzzle\n",
    "\n",
    "  def plot(self):\n",
    "    pretty_print(self.puzzle, \"Problem\")\n",
    "    pretty_print(self.solution, \"Solution\")\n",
    "    pretty_print(self.solved, \"Solved by integer programming\")\n",
    "    \n",
    "  def solve(self):\n",
    "    \"\"\"\n",
    "    Solves the puzzle specified in self.puzzle\n",
    "    Returns : 9 * 9 solved sudoku puzzle\n",
    "    \"\"\"\n",
    "    # Begin \n",
    "    variables = [ cp.Variable((9, 9), integer = True) for i in range(0, 9) ]\n",
    "    \n",
    "    # every value should be 0 or 1, boolean = False was giving some errors\n",
    "    constraint_boolean = []\n",
    "    for i in range(0, 9):\n",
    "        constraint_boolean.extend([ variables[i] >= 0, variables[i] <= 1 ])\n",
    "    \n",
    "    # Each cell should contain only one value\n",
    "    constraint_values = []\n",
    "    for i in range(0, 9):\n",
    "        for j in range(0, 9):\n",
    "            sum = 0;\n",
    "            for k in range(0, 9):\n",
    "                sum += variables[k][i][j]\n",
    "            constraint_values.append(sum == 1)\n",
    "                \n",
    "    # Each column should contain only one value\n",
    "    b = np.ones((9, 1))\n",
    "    constraint_columns = []\n",
    "    for i in range(0, 9):\n",
    "        constraint_columns.append(variables[i] @ b == b)\n",
    "        \n",
    "    # Each row should contain only one value\n",
    "    constraint_rows = []\n",
    "    for i in range(0, 9):\n",
    "        constraint_rows.append(b.T @ variables[i]  == b.T)\n",
    "    \n",
    "    # Each submatrix should contain only one value\n",
    "    constraint_grid = []\n",
    "    for i in range(0, 9):\n",
    "        for p in range(0, 3):\n",
    "            for q in range(0, 3):\n",
    "                constraint_grid.append(cp.sum(variables[i][3*p:3*(p+1), 3*q:3*(q+1)]) == 1)\n",
    "        \n",
    "    # Solved pieces of the puzzle added as constraints\n",
    "    constraint_solved = []\n",
    "    for i in range(0, 9):\n",
    "        for j in range(0, 9):\n",
    "            if self.puzzle[i][j]:\n",
    "                num = int(self.puzzle[i][j]) - 1\n",
    "                constraint_solved.append(variables[num][i][j] == 1)\n",
    "                \n",
    "    objective = cp.Maximize(0)\n",
    "    constraints = []\n",
    "    constraints.extend(constraint_boolean)\n",
    "    constraints.extend(constraint_values)\n",
    "    constraints.extend(constraint_columns)\n",
    "    constraints.extend(constraint_rows)\n",
    "    constraints.extend(constraint_grid)\n",
    "    constraints.extend(constraint_solved)\n",
    "    prob = cp.Problem(objective, constraints)\n",
    "    _ = prob.solve() # Not concerned with the result of the problem\n",
    "    solved_sudoku = np.zeros((9, 9))\n",
    "    for i in range(0, 9):\n",
    "        for j in range(0, 9):\n",
    "            for k in range(0, 9):\n",
    "                if variables[i].value[j][k]:\n",
    "                     solved_sudoku[j][k] = i + 1\n",
    "    self.solved = solved_sudoku\n",
    "    # End\n",
    "    return solved_sudoku\n",
    "    \n",
    "solver = SudokuSolver()"
   ]
  },
  {
   "cell_type": "code",
   "execution_count": 8,
   "metadata": {},
   "outputs": [
    {
     "data": {
      "image/png": "[encoded data removed]",
      "text/plain": [
       "<Figure size 576x576 with 1 Axes>"
      ]
     },
     "metadata": {
      "needs_background": "light"
     },
     "output_type": "display_data"
    },
    {
     "data": {
      "image/png": "[encoded data removed]",
      "text/plain": [
       "<Figure size 576x576 with 1 Axes>"
      ]
     },
     "metadata": {
      "needs_background": "light"
     },
     "output_type": "display_data"
    },
    {
     "data": {
      "image/png": "[encoded data removed]",
      "text/plain": [
       "<Figure size 576x576 with 1 Axes>"
      ]
     },
     "metadata": {
      "needs_background": "light"
     },
     "output_type": "display_data"
    }
   ],
   "source": [
    "sudoku = solver.solve()\n",
    "solver.plot()"
   ]
  },
  {
   "cell_type": "code",
   "execution_count": 58,
   "metadata": {},
   "outputs": [
    {
     "name": "stdout",
     "output_type": "stream",
     "text": [
      "[[0. 0. 0. 0. 0. 0. 0. 0. 1.]\n",
      " [0. 0. 0. 1. 0. 0. 0. 0. 0.]\n",
      " [0. 1. 0. 0. 0. 0. 0. 0. 0.]\n",
      " [1. 0. 0. 0. 0. 0. 0. 0. 0.]\n",
      " [0. 0. 0. 0. 1. 0. 0. 0. 0.]\n",
      " [0. 0. 0. 0. 0. 0. 1. 0. 0.]\n",
      " [0. 0. 0. 0. 0. 1. 0. 0. 0.]\n",
      " [0. 0. 0. 0. 0. 0. 0. 1. 0.]\n",
      " [0. 0. 1. 0. 0. 0. 0. 0. 0.]]\n"
     ]
    }
   ],
   "source": [
    "print(solver.variables[0].value)"
   ]
  },
  {
   "cell_type": "markdown",
   "metadata": {
    "colab_type": "text",
    "editable": false,
    "id": "oIioAxilFDNj"
   },
   "source": [
    "## Question-2 Polyhedron"
   ]
  },
  {
   "cell_type": "markdown",
   "metadata": {
    "colab_type": "text",
    "editable": false,
    "id": "EGByRoKLiMhc"
   },
   "source": [
    "Explain how you would solve the following problem using linear programming. You\n",
    "are given two sets of points in R<sub>n</sub>:\n",
    "\n",
    "$$S1 = \\{ x_1, . . . , x_N \\}, \\space S2 = \\{y_1, . . . , y_M\\}.$$\n",
    "You are asked to find a polyhedron\n",
    "$$P = \\{x | \\space a_i^T x ≤ b_i, i = 1, . . . , m\\}$$\n",
    "that contains the points in S1 in its interior, and does not contain any of the points in S2:\n",
    "$$S1 ⊆ \\{x | \\space a_i^T x < b_i, i = 1, . . . , m\\}$$\n",
    "$$ S2 ⊆ \\{x |\\space  a_i^T x > b_i \\space for \\space \\space at \\space \\space least\\space\\space  one \\space i \\} = R_n - P.$$\n",
    "\n",
    "An example is shown in the figure, with the points in S1 shown as open circles and the points in S2 as filled circles. You can assume that the two sets are separable in the way described. \n",
    "\n",
    "![alt text](https://drive.google.com/uc?export=view&id=19N_kj6cOXZmaKvlMExOScoqRTPegKODM)\n",
    "\n",
    "- Your solution method should return a_i and b_i, i = 1, . . . , m, given the sets S1 and S2. The number of inequalities\n",
    "m is not specified, but it should not exceed 20, i.e your polyhedron should not have more than 20 faces. \n",
    "\n",
    "- You are allowed to solve one or more\n",
    "LPs or LP feasibility problems. The method should be efficient, i.e., the dimensions of the\n",
    "LPs you solve should not be exponential as a function of N and M.\n",
    "\n",
    "- You can calculate the quality of your solution by dividing the number of points in S1 your polyhedron is leaving out (points lying outside the polyhedron) by the total number of points in the set S1 (= N). The lower the value, the more efficient your solution will be. Use this metric to choose the most efficient solution out of all the possible solutions.\n",
    "\n",
    "- The class PolyhedronSolver inherits the Polyhedron class. You need to make changes **only** to the PolyhedronSolver class. Write function `plot` to plot the points and the polyhedron (Look at question-3 on how to plot a polyhedron). Write function `solve` to create our own solver, the function can get the S1 & S2 as the input as should return a numpy array of size Dx2, where the D is the number the vertices of the polyhedron. "
   ]
  },
  {
   "cell_type": "code",
   "execution_count": null,
   "metadata": {
    "colab": {},
    "colab_type": "code",
    "editable": false,
    "id": "styV8M9uFIHD"
   },
   "outputs": [],
   "source": [
    "class Polyhedron():\n",
    "  def __init__(self):\n",
    "    super(Polyhedron,self).__init__()\n",
    "    data, labels = make_circles(n_samples=1000, noise=0.15,factor=0.3) # This will create our data\n",
    "    self.S1 = data[labels==0] # Points outside the polyhedron\n",
    "    self.S2 = data[labels==1] # Points intside the polyhedron"
   ]
  },
  {
   "cell_type": "markdown",
   "metadata": {
    "colab_type": "text",
    "id": "V8rkQGYTEIMP"
   },
   "source": [
    "**Write the formulation of your solution here**"
   ]
  },
  {
   "cell_type": "code",
   "execution_count": null,
   "metadata": {
    "colab": {
     "base_uri": "https://localhost:8080/",
     "height": 498
    },
    "colab_type": "code",
    "id": "DbbO8tEgEIMb",
    "outputId": "9d3ca88b-f383-4c12-c0c8-f0aab43a36d6"
   },
   "outputs": [],
   "source": [
    "class PolyhedronSolver(Polyhedron):\n",
    "  def __init__(self):\n",
    "    super(PolyhedronSolver,self).__init__()\n",
    "    pass\n",
    "\n",
    "  def plot(self):\n",
    "    fig = plt.figure(figsize=(8,8)) # Create 8x8 inches figure  \n",
    "    ax = fig.add_subplot(111) # Create a graph inside the figure\n",
    "    ax.scatter(self.S1[:,0],self.S1[:,1],c=\"red\",label=\"outside polyhedron\") # Plot S1\n",
    "    ax.scatter(self.S2[:,0],self.S2[:,1],c=\"orange\",label=\"inside polyhedron\") # PlotS2\n",
    "\n",
    "    \"\"\"\n",
    "      Write code here for plotting your polyhedron\n",
    "    \"\"\"\n",
    "\n",
    "    ax.set_title(\"Polyhedron Dividing the data\")\n",
    "    plt.legend()\n",
    "    plt.show()\n",
    "  def solve(self):\n",
    "    \"\"\"\n",
    "      Write your code here. \n",
    "    \"\"\"\n",
    "    return \n",
    "solver = PolyhedronSolver()\n",
    "solver.plot()\n",
    "solver.solve()"
   ]
  },
  {
   "cell_type": "markdown",
   "metadata": {
    "colab_type": "text",
    "editable": false,
    "id": "ppcsgPSlwxOo"
   },
   "source": [
    "## Question-3  Largest Ball in a polyhedron"
   ]
  },
  {
   "cell_type": "markdown",
   "metadata": {
    "colab_type": "text",
    "editable": false,
    "id": "hFUuZTGbVXis"
   },
   "source": [
    "Find the largest ball \n",
    "$$ B(x_c, R) = \\{ x :  ||x − x_c|| ≤ R \\}$$\n",
    "enclosed in a given polyhedron\n",
    "$$ P = \\{ x | a_i^T x ≤ b_i, i = 1, . . . , m\\} $$\n",
    "\n",
    "- The problem variables are the center x<sub>c</sub> ∈ R<sub>n</sub> and the radius R of the ball.\n",
    "\n",
    "- The class CircleSolver inherits the CircleSolver class. You need to make changes only to the CircleSolver class. Write function `plot` to plot the polyhedron and the circle. Write function `solve` to create our own solver, the function can get the polyhedron as the input as should return a tuple (center,radius) where center is 1x2 numpy array containing the center of the circle, and radius is a scalar value containing the largest radius of the possible. "
   ]
  },
  {
   "cell_type": "code",
   "execution_count": null,
   "metadata": {
    "colab": {},
    "colab_type": "code",
    "editable": false,
    "id": "vWfS_EzM5mA9"
   },
   "outputs": [],
   "source": [
    "class CircleInPolygon():\n",
    "  def __init__(self):\n",
    "     super(CircleInPolygon,self).__init__()\n",
    "     self.polygon = np.random.random((10,2))\n",
    "     self.polygon = self.polygon[ConvexHull(self.polygon).vertices,:] # A polygon is stored here"
   ]
  },
  {
   "cell_type": "markdown",
   "metadata": {
    "colab_type": "text",
    "id": "WbXs_rpNwxOv"
   },
   "source": [
    "**Write the formulation of problem here**"
   ]
  },
  {
   "cell_type": "code",
   "execution_count": null,
   "metadata": {
    "colab": {
     "base_uri": "https://localhost:8080/",
     "height": 498
    },
    "colab_type": "code",
    "id": "8l_ep4FNwxOy",
    "outputId": "96608f16-890e-4e79-86bd-545665db91eb"
   },
   "outputs": [],
   "source": [
    "# Create your circle puzzle solver here\n",
    "class CircleSolver(CircleInPolygon):\n",
    "  def __init__(self):\n",
    "     super(CircleSolver,self).__init__()\n",
    "\n",
    "\n",
    "  def plot(self):\n",
    "\n",
    "    fig = plt.figure(figsize=(8,8))\n",
    "    ax = fig.add_subplot(111)\n",
    "    ax.plot(self.polygon[:,0],self.polygon[:,1],linewidth=3,c=\"black\") # Plot the points\n",
    "    ax.plot([self.polygon[0,0],self.polygon[-1,0]],[self.polygon[0,1],self.polygon[-1,1]],linewidth=3,c=\"black\") # Plot the edges\n",
    "    ax.scatter(self.polygon[:,0],self.polygon[:,1],s=100,c=\"red\",label=\"Polygon\") # Plot the edge connecting last and the first point\n",
    "\n",
    "    \"\"\"\n",
    "     Add code to plot the circle\n",
    "    \"\"\"\n",
    "    \n",
    "    ax.set_title(\"Largest Circle inside a polyhedron\")\n",
    "    plt.legend()\n",
    "    plt.show()\n",
    "\n",
    "\n",
    "  def solve(self):\n",
    "    pass\n",
    "\n",
    "solver = CircleSolver()\n",
    "solver.solve()\n",
    "solver.plot()"
   ]
  },
  {
   "cell_type": "markdown",
   "metadata": {
    "colab_type": "text",
    "editable": false,
    "id": "zqGzvTjMz2t6"
   },
   "source": [
    "## Question-4 Illumination Problem \n"
   ]
  },
  {
   "cell_type": "markdown",
   "metadata": {
    "colab_type": "text",
    "editable": false,
    "id": "odwZ9msNbnyj"
   },
   "source": [
    "We consider an illumination system of m lamps, at positions l<sub>1</sub>, . . . , l<sub>m</sub> ∈ R<sup>2</sup>, illuminating n flat patches. \n",
    "The patches are line segments; the ith patch is given by $$[v_i, v_i+1]$$ where v<sub>1</sub>, . . . , v<sub>n+1</sub> ∈ R<sup>2</sup>. The variables in the problem are the lamp powers p<sub>1</sub>, . . . , p<sub>m</sub>, which can vary between 0 and 1.\n",
    "The illumination at (the midpoint of) patch i is denoted I<sub>i</sub>. We will use a simple model for the illumination:\n",
    "\n",
    "\n",
    "   $$Ii = \\sum_{j=1}^m a_{ij}p_{j} $$\n",
    "   $$ a_{ij} = r_{ij} ^{−2} ( max(cos θ_{ij},0) )$$\n",
    "where r<sub>ij</sub> denotes the distance between lamp j and the midpoint of patch i, and θ<sub>ij</sub> denotes the angle between the upward normal of patch i and the vector from the midpoint of patch i to lamp j. \n",
    "\n",
    "![alt text](https://drive.google.com/uc?id=1ZyHm9hmKKZRvLryNkiixTEMTCxZts0qH)\n",
    "\n",
    "This model takes into account “self-shading” (i.e., the fact that a patch is illuminated only by lamps in the halfspace it faces) but not shading of one patch caused by another. Of course we could use a more complex illumination model, including shading and even reflections. This just changes the matrix relating the lamp powers to the patch illumination levels.\n",
    "\n",
    "The problem is to determine lamp powers that make the illumination levels close to a given desired illumination level Ides, subject to the power limits 0 ≤ p<sub>i</sub> ≤ 1. Suppose we use the maximum deviation\n",
    "\n",
    "####   $$ φ(p) = max_{k=1,...,n} |I_{k} − I_{des}| $$\n",
    "as a measure for the deviation from the desired illumination level. Formulate the illumination problem using this criterion as a linear programming problem.\n",
    "\n",
    "Create the data using the $Illumination$ class and solve the problem using IlluminationSolver class. \n",
    "The elements of A are the coefficients a<sub>ij</sub> in the above equation. \n",
    "\n",
    "Compute a feasible p using this first method, and calculate φ(p)\n",
    "\n"
   ]
  },
  {
   "cell_type": "code",
   "execution_count": null,
   "metadata": {
    "colab": {},
    "colab_type": "code",
    "editable": false,
    "id": "WDageUPVz2uK"
   },
   "outputs": [],
   "source": [
    "class Illumination():\n",
    "  def __init__(self):\n",
    "    super(Illumination,self).__init__()\n",
    "\n",
    "    # Lamp position\n",
    "    self.Lamps = np.array([[0.1 ,0.3, 0.4, 0.6 ,0.8 ,0.9 ,0.95],[1.0, 1.1, 0.6 ,0.9, 0.9 ,1.2, 1.00]])\n",
    "    self.m = self.Lamps.shape[1]    # number of lamps\n",
    "\n",
    "    # begin and endpoints of patches  \n",
    "    self.patches = [np.arange(0,1,1/12),np.array([0 ,0.1 ,0.2, 0.2, 0.1, 0.2 ,0.3 ,0.2 ,0 ,  0 ,  0.2, 0.1])]\n",
    "    self.patches = np.array(self.patches)\n",
    "    self.n = self.patches.shape[1] -1  # number of patches\n",
    "\n",
    "    # desired illumination\n",
    "    Ides = 2;\n",
    "\n",
    "    # construct A\n",
    "    self.dpatches = self.patches[:,1:] - self.patches[:,:-1];  # tangent to patches\n",
    "    self.patches_mid = self.patches[:,1:] - 0.5*self.dpatches;         # midpoint of patches\n",
    "    A = np.zeros((self.n,self.m));\n",
    "    for i in range(self.n):\n",
    "      for j in range(self.m):\n",
    "        dVI = self.Lamps[:,j]-self.patches_mid[:,i] # Find the distance between each lamp and patch \n",
    "        rij = np.linalg.norm(dVI,ord=2) # Find the radius/distance between lamp and the midpoint of the patch \n",
    "        normal = null_space(self.dpatches[:,i].reshape(1,2)) # Find the normal\n",
    "\n",
    "        if normal[1] < 0: # we want an upward pointing normal  \n",
    "          normal = -1*normal\n",
    "        A[i,j] = dVI.dot(normal)/(np.linalg.norm(dVI,ord=2)*np.linalg.norm(normal,ord=2))/(rij**2); # Find A[i,j] as defined above\n",
    "        if A[i,j] < 0: \n",
    "          A[i,j] = 0\n",
    "\n",
    "    self.A = A"
   ]
  },
  {
   "cell_type": "markdown",
   "metadata": {
    "colab_type": "text",
    "id": "wJktrEc3z2uE"
   },
   "source": [
    "**Write the formulation of problem here**"
   ]
  },
  {
   "cell_type": "code",
   "execution_count": null,
   "metadata": {
    "colab": {
     "base_uri": "https://localhost:8080/",
     "height": 482
    },
    "colab_type": "code",
    "id": "Ng9VL94roG4q",
    "outputId": "282d0a26-eb2e-409a-9e49-e1759fe6670c"
   },
   "outputs": [],
   "source": [
    "# Create your illumination solver here\n",
    "class IlluminationSolver(Illumination):\n",
    "  def __init__(self):\n",
    "    super(IlluminationSolver,self).__init__()\n",
    "\n",
    "  def plot(self):\n",
    "    fig = plt.figure(figsize=(16,8))\n",
    "    ax = fig.add_subplot(111)\n",
    "     \n",
    "    ax.scatter(self.Lamps[0,:],self.Lamps[1,:],s=100,c=\"red\",label=\"Lamps\") # Lamps\n",
    "    ax.scatter(self.patches_mid[0,:],self.patches_mid[1,:],s=50,c=\"blue\",label=\"Patch Mid-point\") # Lamps\n",
    "    ax.plot(self.patches[0,:],self.patches[1,:],linewidth=3,c=\"black\",label=\"Patches\") # Patches\n",
    "\n",
    "    # Normal joining lamps and patchs \n",
    "    for i in range(self.n):\n",
    "      for j in range(self.m):\n",
    "        if self.A[i,j] > 0:\n",
    "          ax.plot([self.Lamps[0,j], self.patches_mid[0,i]],[self.Lamps[1,j], self.patches_mid[1,i]],'r--',linewidth=0.1,alpha=1)\n",
    "          ax.text((self.Lamps[0,j]+self.patches_mid[0,i])/2,(self.Lamps[1,j] + self.patches_mid[1,i])/2,\"A={0:.2f}\".format(self.A[i,j]),alpha=0.5)\n",
    "\n",
    "    plt.legend()\n",
    "    plt.show()\n",
    "  \n",
    "  def solve(self):\n",
    "    \"\"\"\n",
    "      Write your solver here\n",
    "    \"\"\"\n",
    "    pass\n",
    "\n",
    "solver = IlluminationSolver()\n",
    "solver.plot()\n"
   ]
  },
  {
   "cell_type": "markdown",
   "metadata": {
    "colab_type": "text",
    "editable": false,
    "id": "Zj8hufS9xwNl"
   },
   "source": [
    "## Question-5 Jigsaw "
   ]
  },
  {
   "cell_type": "markdown",
   "metadata": {
    "colab_type": "text",
    "editable": false,
    "id": "ex3t_MTgd6Wa"
   },
   "source": [
    "Solving jigsaw puzzles computationally remains a relevant and intriguing problem noted for its applications to real-world problems. \n",
    "\n",
    "In this problem, you'll implement a solver that solves jigsaw puzzles using linear programming. \n",
    "\n",
    "The current problem requires you to only solve Type I problems (i.e. problems where the orientation of the pieces is known).\n",
    "\n",
    "You may refer to this paper [Solving Jigsaw Puzzles with Linear Programming](https://arxiv.org/abs/1511.04472) for implementation details. \n",
    "\n",
    "![alt text](https://drive.google.com/uc?id=19MyWwH6XV4jz244E5yBJAH0baZAXddVx)\n",
    "\n",
    "- Jigsaw class will take an image as input and will create a random jigsaw puzzle. Function patches2image will reconstruct the image back from the patches\n",
    "\n",
    "- The class JigsawSolver inherits the Jigsaw class. You need to make changes only to the JigsawSolver class. Write function `solve` to create our own solver, the function can get a numpy array of shape RxCxHxWx3 as input, where R & C are the number of  rows and cols in the jigsaw puzzle respectively and HxW is the height and width of each peice. The output of the function should be a numpy array of shape RxCxHxWx3 which would be the solution.  "
   ]
  },
  {
   "cell_type": "code",
   "execution_count": null,
   "metadata": {
    "colab": {},
    "colab_type": "code",
    "editable": false,
    "id": "6QCWluXn97C2"
   },
   "outputs": [],
   "source": [
    "class Jigsaw():\n",
    "  def __init__(self,path=None):\n",
    "    super(Jigsaw,self).__init__()\n",
    "    \"\"\"\n",
    "      Initialize your Jigsaw puzzle, you can provide path to an image or we will load the default image\n",
    "    \"\"\"\n",
    "    if path is None:  # Load default image  \n",
    "      with cbook.get_sample_data('grace_hopper.png') as image_file:\n",
    "        self.image = plt.imread(image_file)\n",
    "    else:\n",
    "      self.image = plt.imread(path)  # Load image of your choice\n",
    "\n",
    "    self.original_size = self.image.shape[0:2] #Store the original size of the image\n",
    "    self.new_size = (500,500) # Store new image size, 500x500\n",
    "    self.rows = 5 # number of rows in jigsaw puzzle\n",
    "    self.cols = 5 # number of cols in jigsaw puzzle\n",
    "\n",
    "    # RxCxHxWx3 numpy array storing the jigsaw puzzle\n",
    "    self.jigsaw = self.create_jigsaw_puzzle(self.image,self.new_size,self.rows,self.cols)\n",
    "\n",
    "  \n",
    "  def image2patches(self,image,new_size,rows,cols):\n",
    "    \"\"\"\n",
    "      This function converts an image to patches for jigsaw puzzle\n",
    "      @param: image -> input image\n",
    "      @param: new_size -> shape to which image will be resized\n",
    "      @param: rows -> number of rows in the jigsaw puzzle\n",
    "      @param: rows -> number of cols in the jigsaw puzzle\n",
    "\n",
    "      @returns: patches -> RxCxHxWx3 numpy array storing the jigsaw puzzle's patches\n",
    "    \"\"\"\n",
    "\n",
    "    image = resize(image,self.new_size) # resize the original image \n",
    "    patches = np.zeros((self.rows,self.cols,self.new_size[0]//self.rows,self.new_size[1]//self.cols,3)) # store the jigsaw puzzle here\n",
    "    for i in range(self.rows): # for every row of jigsaw\n",
    "      for j in range(self.cols): # for every col of jigsaw\n",
    "        patches[i,j,:,:,:] = self.image[i*self.new_size[0]//self.rows:(i+1)*self.new_size[0]//self.rows,j*self.new_size[0]//self.cols:(j+1)*self.new_size[0]//self.cols,:]\n",
    "    return patches \n",
    "\n",
    "  def patches2image(self,patches,original_size):\n",
    "    \"\"\"\n",
    "      This function recreates images from patches\n",
    "      @param: patches -> RxCxHxWx3 numpy array storing the jigsaw puzzle's patches\n",
    "      @param: orignal_size -> shape to which image will be resized\n",
    "\n",
    "      @returns: image -> output image \n",
    "    \"\"\"\n",
    "    R,C,H,W,_ = patches.shape\n",
    "    image = np.zeros((R*H,C*W,3))\n",
    "    for i in range(R):\n",
    "      for j in range(C):\n",
    "        image[i*H:(i+1)*H,j*W:(j+1)*W,:] = patches[i,j,:,:,:] \n",
    "    \n",
    "    image = resize(image,original_size) \n",
    "    return image \n",
    "\n",
    "  def create_jigsaw_puzzle(self,image,new_size,rows,cols):\n",
    "    patches = self.image2patches(image,new_size,rows,cols)\n",
    "    R,C,H,W,_ = patches.shape\n",
    "    patches = patches.reshape((-1,H,W,3))\n",
    "    patches = patches[np.random.permutation(R*C),...].reshape((R,C,H,W,3))\n",
    "    return patches"
   ]
  },
  {
   "cell_type": "markdown",
   "metadata": {
    "colab_type": "text",
    "id": "JvJvwOsaxwNu"
   },
   "source": [
    "**Write the formulation of problem here**"
   ]
  },
  {
   "cell_type": "code",
   "execution_count": null,
   "metadata": {
    "colab": {
     "base_uri": "https://localhost:8080/",
     "height": 482
    },
    "colab_type": "code",
    "id": "9sS3I2JWxwNx",
    "outputId": "a7170f9f-74b0-4d7d-be85-84a07f00c9c1"
   },
   "outputs": [],
   "source": [
    " # Create your jigsaw puzzle solver here\n",
    "class JigsawSolver(Jigsaw):\n",
    "  def __init__(self,*args,**kwargs):\n",
    "    super(JigsawSolver,self).__init__()\n",
    "    pass\n",
    "\n",
    "  def plot(self):\n",
    "    fig = plt.figure(figsize=(24,8))\n",
    "    ax1 = fig.add_subplot(131)\n",
    "    ax1.imshow(self.patches2image(self.jigsaw,self.original_size))\n",
    "    ax1.axis('off')\n",
    "    ax1.set_title(\"Input Jigsaw\")\n",
    "\n",
    "    # Create your plot here\n",
    "    # ax2 = fig.add_subplot(132)\n",
    "    # ax2.imshow(self.image)\n",
    "    # ax2.axis('off')\n",
    "    # ax2.set_title(\"Reconstructed Image\")\n",
    "\n",
    "\n",
    "    ax3 = fig.add_subplot(133)\n",
    "    ax3.imshow(self.image)\n",
    "    ax3.axis('off')\n",
    "    ax3.set_title(\"Original Image\")\n",
    "\n",
    "    plt.show()\n",
    "\n",
    "  def solve(self):\n",
    "    \"\"\"\n",
    "      Write your solver here\n",
    "    \"\"\"\n",
    "    pass\n",
    "\n",
    "solver = JigsawSolver(path=None)\n",
    "solver.solve()\n",
    "solver.plot()"
   ]
  },
  {
   "cell_type": "markdown",
   "metadata": {
    "colab_type": "text",
    "editable": false,
    "id": "nvM1eEjS4JsI"
   },
   "source": [
    "## Instructions \n",
    "  - For each question you need to write the formulation in markdown and solve the problem using `cvxpy`. \n",
    "  - Ensure that this notebook runs without errors when the cells are run in sequence.\n",
    "  - Plagarism will not be tolerated.\n",
    "  - Use only `python3` to run your code.\n",
    "  - If you are facing issues running the notebook on your local system. Use google collab to run the notebook online. To run the notebook online, go to [google collab](!https://colab.research.google.com/notebooks/intro.ipynb). Go to `File  -> Upload Notebook` and import the notebook file \n",
    "  - Rename the notebook to `<roll_number>.ipynb` and submit **ONLY** the notebook file on moodle."
   ]
  }
 ],
 "metadata": {
  "colab": {
   "collapsed_sections": [],
   "name": "Assignment-1.ipynb",
   "provenance": []
  },
  "kernelspec": {
   "display_name": "Python 3",
   "language": "python",
   "name": "python3"
  },
  "language_info": {
   "codemirror_mode": {
    "name": "ipython",
    "version": 3
   },
   "file_extension": ".py",
   "mimetype": "text/x-python",
   "name": "python",
   "nbconvert_exporter": "python",
   "pygments_lexer": "ipython3",
   "version": "3.6.8"
  }
 },
 "nbformat": 4,
 "nbformat_minor": 1
}
