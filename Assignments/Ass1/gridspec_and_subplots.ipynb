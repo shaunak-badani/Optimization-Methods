{
 "cells": [
  {
   "cell_type": "code",
   "execution_count": 1,
   "metadata": {},
   "outputs": [],
   "source": [
    "%matplotlib inline"
   ]
  },
  {
   "cell_type": "markdown",
   "metadata": {},
   "source": [
    "\n",
    "# Combining two subplots using subplots and GridSpec\n",
    "\n",
    "\n",
    "Sometimes we want to combine two subplots in an axes layout created with\n",
    "`~.Figure.subplots`.  We can get the `~.gridspec.GridSpec` from the axes\n",
    "and then remove the covered axes and fill the gap with a new bigger axes.\n",
    "Here we create a layout with the bottom two axes in the last column combined.\n",
    "\n",
    "See also :doc:`/tutorials/intermediate/gridspec`.\n",
    "\n"
   ]
  },
  {
   "cell_type": "code",
   "execution_count": 7,
   "metadata": {},
   "outputs": [
    {
     "data": {
      "image/png": "[encoded data removed]",
      "text/plain": [
       "<Figure size 432x288 with 8 Axes>"
      ]
     },
     "metadata": {
      "needs_background": "light"
     },
     "output_type": "display_data"
    }
   ],
   "source": [
    "import matplotlib.pyplot as plt\n",
    "\n",
    "fig, axs = plt.subplots(ncols=3, nrows=3)\n",
    "gs = axs[1, 2].get_gridspec()\n",
    "# remove the underlying axes\n",
    "for ax in axs[1:, -1]:\n",
    "    ax.remove()\n",
    "axbig = fig.add_subplot(gs[1:, -1])\n",
    "axbig.annotate('Big Axes \\nGridSpec[1:, -1]', (0.1, 0.5),\n",
    "               xycoords='axes fraction', va='center')\n",
    "\n",
    "# fig.tight_layout()\n",
    "\n",
    "plt.show()"
   ]
  },
  {
   "cell_type": "code",
   "execution_count": 8,
   "metadata": {},
   "outputs": [
    {
     "data": {
      "image/png": "[encoded data removed]",
      "text/plain": [
       "<Figure size 432x288 with 1 Axes>"
      ]
     },
     "metadata": {
      "needs_background": "light"
     },
     "output_type": "display_data"
    }
   ],
   "source": [
    "from numpy import random\n",
    "import matplotlib.pyplot as plt\n",
    "\n",
    "data = random.random((5,5))\n",
    "img = plt.imshow(data, interpolation='nearest')\n",
    "img.set_cmap('hot')\n",
    "plt.axis('off')\n",
    "plt.savefig(\"test.png\", bbox_inches='tight')"
   ]
  },
  {
   "cell_type": "code",
   "execution_count": null,
   "metadata": {},
   "outputs": [],
   "source": []
  }
 ],
 "metadata": {
  "kernelspec": {
   "display_name": "Python 3",
   "language": "python",
   "name": "python3"
  },
  "language_info": {
   "codemirror_mode": {
    "name": "ipython",
    "version": 3
   },
   "file_extension": ".py",
   "mimetype": "text/x-python",
   "name": "python",
   "nbconvert_exporter": "python",
   "pygments_lexer": "ipython3",
   "version": "3.6.8"
  }
 },
 "nbformat": 4,
 "nbformat_minor": 1
}
