{
 "cells": [
  {
   "cell_type": "code",
   "execution_count": 1,
   "metadata": {},
   "outputs": [],
   "source": [
    "import cvxpy as cp\n",
    "import numpy as np\n",
    "import matplotlib.pyplot as plt"
   ]
  },
  {
   "cell_type": "markdown",
   "metadata": {},
   "source": [
    "# <p style=\"font-family:arvo\">1. Basic LP problem"
   ]
  },
  {
   "cell_type": "markdown",
   "metadata": {},
   "source": [
    "<p style=\"font-family:arvo\">\n",
    "$A$ is $mxn$ matrix and $b$ is $mx1$ matrix.\n",
    "\n",
    "\n",
    "Our objective function is to \n",
    "\n",
    "<center>\n",
    "Minimize: $(AX - b)^2$\n",
    "</center>\n",
    "\n",
    "subject to the constraints \n",
    "<center>\n",
    "    $0 \\leq X \\leq 1$\n",
    "</center>\n",
    "\n",
    "Solve for $X$"
   ]
  },
  {
   "cell_type": "code",
   "execution_count": 2,
   "metadata": {},
   "outputs": [],
   "source": [
    "# Problem data.\n",
    "m = 30\n",
    "n = 20\n",
    "np.random.seed(1)\n",
    "A = np.random.randn(m, n)\n",
    "b = np.random.randn(m)"
   ]
  },
  {
   "cell_type": "markdown",
   "metadata": {},
   "source": [
    "### <p style=\"font-family:arvo\">We need to solve for $x$"
   ]
  },
  {
   "cell_type": "code",
   "execution_count": 3,
   "metadata": {},
   "outputs": [],
   "source": [
    "x = cp.Variable(n)"
   ]
  },
  {
   "cell_type": "markdown",
   "metadata": {},
   "source": [
    "### <p style=\"font-family:arvo\">Minimizing the objective"
   ]
  },
  {
   "cell_type": "code",
   "execution_count": 4,
   "metadata": {},
   "outputs": [],
   "source": [
    "objective = cp.Minimize(cp.sum_squares(A*x - b))"
   ]
  },
  {
   "cell_type": "markdown",
   "metadata": {},
   "source": [
    "### <p style=\"font-family:arvo\">Defining constraints"
   ]
  },
  {
   "cell_type": "code",
   "execution_count": 5,
   "metadata": {},
   "outputs": [],
   "source": [
    "constraints = [x >= 0, x <= 1]\n",
    "prob = cp.Problem(objective, constraints)"
   ]
  },
  {
   "cell_type": "markdown",
   "metadata": {},
   "source": [
    "### <p style=\"font-family:arvo\">The optimal objective is returned by prob.solve()"
   ]
  },
  {
   "cell_type": "code",
   "execution_count": 6,
   "metadata": {},
   "outputs": [
    {
     "name": "stdout",
     "output_type": "stream",
     "text": [
      "Solution is: optimal\n",
      "Minimum Objective value is: 19.83126370644502\n"
     ]
    }
   ],
   "source": [
    "result = prob.solve()\n",
    "print(\"Solution is:\", prob.status)\n",
    "print(\"Minimum Objective value is:\", result)"
   ]
  },
  {
   "cell_type": "markdown",
   "metadata": {},
   "source": [
    "### <p style=\"font-family:arvo\">The optimal value for x is stored in x.value"
   ]
  },
  {
   "cell_type": "code",
   "execution_count": 41,
   "metadata": {},
   "outputs": [
    {
     "name": "stdout",
     "output_type": "stream",
     "text": [
      "[0. 1. 1. 1. 0. 0.]\n"
     ]
    }
   ],
   "source": [
    "print(x.value)"
   ]
  },
  {
   "cell_type": "markdown",
   "metadata": {},
   "source": [
    "# <p style=\"font-family:arvo\">2. Knapsack Problem\n",
    "\n",
    "<p style=\"font-family:arvo\">\n",
    "<center>\n",
    "$\\max$ $\\sum_{i}$ $x_{i} * c_{i}$ \n",
    "</center>\n",
    "<br>\n",
    "<b>subject to constraints-</b>\n",
    "<br>\n",
    "<center>\n",
    "$\\sum_{i}$ $x_{i} * w_{i}$ $\\leq W$ where $W$ is maximum weight\n",
    "<br>\n",
    "$x_{i} \\in$ {0,1}\n",
    "</center>\n",
    "</p>"
   ]
  },
  {
   "cell_type": "markdown",
   "metadata": {},
   "source": [
    "### <p style=\"font-family:arvo\">$W$ = 165 units"
   ]
  },
  {
   "cell_type": "code",
   "execution_count": 44,
   "metadata": {},
   "outputs": [],
   "source": [
    "totalWeight = 165"
   ]
  },
  {
   "cell_type": "markdown",
   "metadata": {},
   "source": [
    "### <p style=\"font-family:arvo\">Specifying Constraints"
   ]
  },
  {
   "cell_type": "markdown",
   "metadata": {},
   "source": [
    "### <p style=\"font-family:arvo\">weights : weights$_{i}$ denotes weight of $i^{th}$ item"
   ]
  },
  {
   "cell_type": "code",
   "execution_count": 45,
   "metadata": {},
   "outputs": [
    {
     "data": {
      "text/plain": [
       "10"
      ]
     },
     "execution_count": 45,
     "metadata": {},
     "output_type": "execute_result"
    }
   ],
   "source": [
    "weights = np.array([23, 31, 29, 44, 53, 38, 63, 85, 89, 82])\n",
    "len(weights)"
   ]
  },
  {
   "cell_type": "markdown",
   "metadata": {},
   "source": [
    "### <p style=\"font-family:arvo\">cost: cost$_{i}$ denotes cost of $i^{th}$ item"
   ]
  },
  {
   "cell_type": "code",
   "execution_count": 46,
   "metadata": {},
   "outputs": [
    {
     "data": {
      "text/plain": [
       "10"
      ]
     },
     "execution_count": 46,
     "metadata": {},
     "output_type": "execute_result"
    }
   ],
   "source": [
    "cost = np.array([92, 57, 49, 68, 60, 43, 67, 84, 87, 72])\n",
    "len(cost)"
   ]
  },
  {
   "cell_type": "markdown",
   "metadata": {},
   "source": [
    "### <p style=\"font-family:arvo\"> take: take$_{i}$ denotes whether we are taking $i^{th}$ item or not, boolean variable"
   ]
  },
  {
   "cell_type": "code",
   "execution_count": 47,
   "metadata": {},
   "outputs": [
    {
     "data": {
      "text/plain": [
       "Variable((10,), boolean=True)"
      ]
     },
     "execution_count": 47,
     "metadata": {},
     "output_type": "execute_result"
    }
   ],
   "source": [
    "take = cp.Variable(len(weights),boolean=True)\n",
    "take"
   ]
  },
  {
   "cell_type": "markdown",
   "metadata": {},
   "source": [
    "### <p style=\"font-family:arvo\">Weight Constraint:  Total weight in bag <= totalWeight"
   ]
  },
  {
   "cell_type": "code",
   "execution_count": 61,
   "metadata": {},
   "outputs": [],
   "source": [
    "weight_constraint = [weights @ take <= totalWeight]"
   ]
  },
  {
   "cell_type": "markdown",
   "metadata": {},
   "source": [
    "### <p style=\"font-family:arvo\">Total cost for all the items present in the bag, need to maximize total_cost"
   ]
  },
  {
   "cell_type": "code",
   "execution_count": 62,
   "metadata": {},
   "outputs": [],
   "source": [
    "total_cost = cost * take"
   ]
  },
  {
   "cell_type": "markdown",
   "metadata": {},
   "source": [
    "### <p style=\"font-family:arvo\">Defining problem in cvxpy"
   ]
  },
  {
   "cell_type": "code",
   "execution_count": 63,
   "metadata": {},
   "outputs": [],
   "source": [
    "knapsack_problem = cp.Problem(cp.Maximize(total_cost), weight_constraint)"
   ]
  },
  {
   "cell_type": "markdown",
   "metadata": {},
   "source": [
    "### <p style=\"font-family:arvo\">Using cvxpy to solve the problem and also mentioning solver for Integer Programming Problems, return maximum value of the objective"
   ]
  },
  {
   "cell_type": "code",
   "execution_count": 64,
   "metadata": {},
   "outputs": [
    {
     "data": {
      "text/plain": [
       "309.0"
      ]
     },
     "execution_count": 64,
     "metadata": {},
     "output_type": "execute_result"
    }
   ],
   "source": [
    "knapsack_problem.solve()"
   ]
  },
  {
   "cell_type": "markdown",
   "metadata": {},
   "source": [
    "### <p style=\"font-family:arvo\">take$_{i}$ = 1, represents that we need to take $i^{th}$ item, otherwise don't take the item"
   ]
  },
  {
   "cell_type": "code",
   "execution_count": 65,
   "metadata": {},
   "outputs": [
    {
     "name": "stdout",
     "output_type": "stream",
     "text": [
      "[1. 1. 1. 1. 0. 1. 0. 0. 0. 0.]\n"
     ]
    }
   ],
   "source": [
    "print(take.value)"
   ]
  },
  {
   "cell_type": "markdown",
   "metadata": {},
   "source": [
    "# <p style=\"font-family:arvo\">3. Line Fitting Problem\n",
    "<br>\n",
    "Our objective function is - \n",
    "<center>\n",
    "    $\\min$ $\\sum_{i} (y_{i} - (m * x_{i} + c))^2$\n",
    "</center>\n",
    "### <p style=\"font-family:arvo\">This is an unconstrained optimization problem"
   ]
  },
  {
   "cell_type": "markdown",
   "metadata": {},
   "source": [
    "### <p style=\"font-family:arvo\">The number of data points are 50"
   ]
  },
  {
   "cell_type": "code",
   "execution_count": 17,
   "metadata": {},
   "outputs": [],
   "source": [
    "np.random.seed(0)\n",
    "num = 50"
   ]
  },
  {
   "cell_type": "code",
   "execution_count": 18,
   "metadata": {},
   "outputs": [
    {
     "data": {
      "image/png": "[encoded data removed]",
      "text/plain": [
       "<Figure size 720x720 with 1 Axes>"
      ]
     },
     "metadata": {
      "needs_background": "light"
     },
     "output_type": "display_data"
    }
   ],
   "source": [
    "x = np.arange(num)\n",
    "y = 2*x+4 + 5*np.random.randn(num,)\n",
    "\n",
    "plt.figure(figsize=(10,10))\n",
    "plt.scatter(x,y)\n",
    "plt.show()"
   ]
  },
  {
   "cell_type": "markdown",
   "metadata": {},
   "source": [
    "### <p style=\"font-family:arvo\">The variables $m$ and $c$ are defined"
   ]
  },
  {
   "cell_type": "code",
   "execution_count": 19,
   "metadata": {},
   "outputs": [],
   "source": [
    "m = cp.Variable()\n",
    "c = cp.Variable()"
   ]
  },
  {
   "cell_type": "markdown",
   "metadata": {},
   "source": [
    "### <p style=\"font-family:arvo\">Objective function is posed as problem"
   ]
  },
  {
   "cell_type": "code",
   "execution_count": 20,
   "metadata": {},
   "outputs": [],
   "source": [
    "objective = cp.Minimize(cp.sum((y - (m*x+c))**2))\n",
    "prob = cp.Problem(objective)"
   ]
  },
  {
   "cell_type": "code",
   "execution_count": 21,
   "metadata": {},
   "outputs": [
    {
     "name": "stdout",
     "output_type": "stream",
     "text": [
      "Optimal value is:  1367.4594036601761\n"
     ]
    }
   ],
   "source": [
    "result = prob.solve()\n",
    "print(\"Optimal value is: \",result)"
   ]
  },
  {
   "cell_type": "code",
   "execution_count": 22,
   "metadata": {},
   "outputs": [
    {
     "name": "stdout",
     "output_type": "stream",
     "text": [
      "The values of m is 1.855956888470389 and c is 8.231852594040959\n"
     ]
    }
   ],
   "source": [
    "print(\"The values of m is {} and c is {}\".format(m.value, c.value))"
   ]
  },
  {
   "cell_type": "code",
   "execution_count": 23,
   "metadata": {},
   "outputs": [
    {
     "data": {
      "image/png": "[encoded data removed]",
      "text/plain": [
       "<Figure size 720x720 with 1 Axes>"
      ]
     },
     "metadata": {
      "needs_background": "light"
     },
     "output_type": "display_data"
    }
   ],
   "source": [
    "plt.figure(figsize=(10,10))\n",
    "plt.scatter(x,y)\n",
    "plt.plot(x, m.value * x + c.value, 'r')\n",
    "plt.show()"
   ]
  },
  {
   "cell_type": "markdown",
   "metadata": {},
   "source": [
    "# <p style=\"font-family:arvo\">4. Min vertex cover\n",
    "\n",
    "<p style=\"font-family:arvo\">The objective function is defined as - \n",
    "<center>\n",
    "$\\min \\sum_{u} x_{u} , \\forall u \\in V$\n",
    "</center>\n",
    "<p style=\"font-family:arvo\">subject to constraints - \n",
    "<center>\n",
    "    $x_{u} + x_{v} \\geq 1, \\forall u, v \\in E$\n",
    "    <br>\n",
    "    $x_{u} \\in $ {0,1}\n",
    "</center>"
   ]
  },
  {
   "cell_type": "markdown",
   "metadata": {},
   "source": [
    "![](graph.png)"
   ]
  },
  {
   "cell_type": "markdown",
   "metadata": {},
   "source": [
    "### <p style=\"font-family:arvo\">The above graph has 6 vertices and 7 edges."
   ]
  },
  {
   "cell_type": "code",
   "execution_count": 24,
   "metadata": {},
   "outputs": [],
   "source": [
    "e = 7\n",
    "v = 6\n",
    "edges = [(1,2), (1,3), (2,3), (2,4), (3,5), (4,5), (4,6)]"
   ]
  },
  {
   "cell_type": "markdown",
   "metadata": {},
   "source": [
    "### <p style=\"font-family:arvo\">The variable $x$ , objective function and constraints are defined"
   ]
  },
  {
   "cell_type": "code",
   "execution_count": 25,
   "metadata": {},
   "outputs": [],
   "source": [
    "x = cp.Variable(v, boolean=True)"
   ]
  },
  {
   "cell_type": "code",
   "execution_count": 26,
   "metadata": {},
   "outputs": [],
   "source": [
    "objective = cp.Minimize(cp.sum(x))"
   ]
  },
  {
   "cell_type": "code",
   "execution_count": 27,
   "metadata": {},
   "outputs": [],
   "source": [
    "constraints = [x[i-1]+x[j-1]>=1 for (i,j) in edges]"
   ]
  },
  {
   "cell_type": "markdown",
   "metadata": {},
   "source": [
    "### <p style=\"font-family:arvo\">Using cvxpy solving the problem"
   ]
  },
  {
   "cell_type": "code",
   "execution_count": 28,
   "metadata": {},
   "outputs": [],
   "source": [
    "prob = cp.Problem(objective, constraints)"
   ]
  },
  {
   "cell_type": "code",
   "execution_count": 29,
   "metadata": {},
   "outputs": [],
   "source": [
    "result = prob.solve(solver=cp.GLPK_MI)"
   ]
  },
  {
   "cell_type": "code",
   "execution_count": 30,
   "metadata": {},
   "outputs": [
    {
     "name": "stdout",
     "output_type": "stream",
     "text": [
      "The minimum value of the objective function is : 3.0\n",
      "The minimum vertex cover is : 3\n"
     ]
    }
   ],
   "source": [
    "print(\"The minimum value of the objective function is :\", result)\n",
    "print(\"The minimum vertex cover is :\", np.sum(x.value == 1.0))"
   ]
  },
  {
   "cell_type": "markdown",
   "metadata": {},
   "source": [
    "### <p style=\"font-family:arvo\">The values in $x$ which correspond to 1 are included in minimum vertex cover"
   ]
  },
  {
   "cell_type": "code",
   "execution_count": 39,
   "metadata": {},
   "outputs": [
    {
     "data": {
      "text/plain": [
       "array([0., 1., 1., 1., 0., 0.])"
      ]
     },
     "execution_count": 39,
     "metadata": {},
     "output_type": "execute_result"
    }
   ],
   "source": [
    "x.value"
   ]
  },
  {
   "cell_type": "code",
   "execution_count": 43,
   "metadata": {},
   "outputs": [
    {
     "name": "stdout",
     "output_type": "stream",
     "text": [
      "10\n"
     ]
    }
   ],
   "source": [
    "_ = 10\n"
   ]
  },
  {
   "cell_type": "code",
   "execution_count": null,
   "metadata": {},
   "outputs": [],
   "source": []
  }
 ],
 "metadata": {
  "kernelspec": {
   "display_name": "Python 3",
   "language": "python",
   "name": "python3"
  },
  "language_info": {
   "codemirror_mode": {
    "name": "ipython",
    "version": 3
   },
   "file_extension": ".py",
   "mimetype": "text/x-python",
   "name": "python",
   "nbconvert_exporter": "python",
   "pygments_lexer": "ipython3",
   "version": "3.6.8"
  }
 },
 "nbformat": 4,
 "nbformat_minor": 2
}
